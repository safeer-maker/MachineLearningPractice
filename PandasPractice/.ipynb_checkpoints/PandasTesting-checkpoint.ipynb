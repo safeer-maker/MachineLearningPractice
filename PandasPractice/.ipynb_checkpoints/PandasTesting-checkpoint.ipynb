{
 "cells": [
  {
   "cell_type": "code",
   "execution_count": 2,
   "id": "c0b4c344-d37f-45aa-9ee0-de86ccb8a132",
   "metadata": {},
   "outputs": [],
   "source": [
    "import pandas as pd"
   ]
  },
  {
   "cell_type": "markdown",
   "id": "bd920d0a-72a0-486b-b634-b7d87a177edf",
   "metadata": {},
   "source": [
    "Pandas has two basic data types\n",
    "\n",
    "Series are one dimensional column of data\n",
    "\n",
    "DataFrame is two domensional data with rows and column"
   ]
  },
  {
   "cell_type": "code",
   "execution_count": 6,
   "id": "bfcdffd6-836a-4aa9-b9da-fc6cae173823",
   "metadata": {},
   "outputs": [
    {
     "data": {
      "text/plain": [
       "0         BwmRed\n",
       "1      Hondablue\n",
       "2    SuzukiGreen\n",
       "dtype: object"
      ]
     },
     "execution_count": 6,
     "metadata": {},
     "output_type": "execute_result"
    }
   ],
   "source": [
    "# Lets take an example of cars\n",
    "cars = pd.Series([\"Bwm\",\"Honda\",\"Suzuki\"])\n",
    "colours = pd.Series([\"Red\",\"blue\",\"Green\"])\n",
    "cars+colours"
   ]
  },
  {
   "cell_type": "code",
   "execution_count": 10,
   "id": "1dc32326-9bfe-4cc0-bb6c-f91d278a37d0",
   "metadata": {},
   "outputs": [],
   "source": [
    "car_data = pd.DataFrame({\"Car Model\": cars,\n",
    "                         \"car Colour\": colours})"
   ]
  },
  {
   "cell_type": "code",
   "execution_count": 11,
   "id": "9e49224f-eca7-40c4-af64-665c58e9bfa3",
   "metadata": {},
   "outputs": [
    {
     "data": {
      "text/html": [
       "<div>\n",
       "<style scoped>\n",
       "    .dataframe tbody tr th:only-of-type {\n",
       "        vertical-align: middle;\n",
       "    }\n",
       "\n",
       "    .dataframe tbody tr th {\n",
       "        vertical-align: top;\n",
       "    }\n",
       "\n",
       "    .dataframe thead th {\n",
       "        text-align: right;\n",
       "    }\n",
       "</style>\n",
       "<table border=\"1\" class=\"dataframe\">\n",
       "  <thead>\n",
       "    <tr style=\"text-align: right;\">\n",
       "      <th></th>\n",
       "      <th>Car Model</th>\n",
       "      <th>car Colour</th>\n",
       "    </tr>\n",
       "  </thead>\n",
       "  <tbody>\n",
       "    <tr>\n",
       "      <th>0</th>\n",
       "      <td>Bwm</td>\n",
       "      <td>Red</td>\n",
       "    </tr>\n",
       "    <tr>\n",
       "      <th>1</th>\n",
       "      <td>Honda</td>\n",
       "      <td>blue</td>\n",
       "    </tr>\n",
       "    <tr>\n",
       "      <th>2</th>\n",
       "      <td>Suzuki</td>\n",
       "      <td>Green</td>\n",
       "    </tr>\n",
       "  </tbody>\n",
       "</table>\n",
       "</div>"
      ],
      "text/plain": [
       "  Car Model car Colour\n",
       "0       Bwm        Red\n",
       "1     Honda       blue\n",
       "2    Suzuki      Green"
      ]
     },
     "execution_count": 11,
     "metadata": {},
     "output_type": "execute_result"
    }
   ],
   "source": [
    "car_data"
   ]
  },
  {
   "cell_type": "code",
   "execution_count": 15,
   "id": "30188a0d-6e13-49bc-98c3-dd1f34325d0d",
   "metadata": {},
   "outputs": [
    {
     "data": {
      "text/html": [
       "<div>\n",
       "<style scoped>\n",
       "    .dataframe tbody tr th:only-of-type {\n",
       "        vertical-align: middle;\n",
       "    }\n",
       "\n",
       "    .dataframe tbody tr th {\n",
       "        vertical-align: top;\n",
       "    }\n",
       "\n",
       "    .dataframe thead th {\n",
       "        text-align: right;\n",
       "    }\n",
       "</style>\n",
       "<table border=\"1\" class=\"dataframe\">\n",
       "  <thead>\n",
       "    <tr style=\"text-align: right;\">\n",
       "      <th></th>\n",
       "      <th>Food name</th>\n",
       "      <th>Food price</th>\n",
       "    </tr>\n",
       "  </thead>\n",
       "  <tbody>\n",
       "    <tr>\n",
       "      <th>0</th>\n",
       "      <td>eggs</td>\n",
       "      <td>25</td>\n",
       "    </tr>\n",
       "    <tr>\n",
       "      <th>1</th>\n",
       "      <td>Apple</td>\n",
       "      <td>120</td>\n",
       "    </tr>\n",
       "    <tr>\n",
       "      <th>2</th>\n",
       "      <td>Banana</td>\n",
       "      <td>5</td>\n",
       "    </tr>\n",
       "  </tbody>\n",
       "</table>\n",
       "</div>"
      ],
      "text/plain": [
       "  Food name  Food price\n",
       "0      eggs          25\n",
       "1     Apple         120\n",
       "2    Banana           5"
      ]
     },
     "execution_count": 15,
     "metadata": {},
     "output_type": "execute_result"
    }
   ],
   "source": [
    "import pandas as pd\n",
    "\n",
    "food = pd.Series ([\"eggs\",\"Apple\",\"Banana\"])\n",
    "price = pd.Series([25,120,5])\n",
    "\n",
    "Grousery = pd.DataFrame({\"Food name\": food,\n",
    "                        \"Food price\": price})\n",
    "\n",
    "Grousery"
   ]
  },
  {
   "cell_type": "code",
   "execution_count": null,
   "id": "e307d228-0f64-4f73-9844-674a550a8a21",
   "metadata": {},
   "outputs": [],
   "source": []
  }
 ],
 "metadata": {
  "kernelspec": {
   "display_name": "Python 3 (ipykernel)",
   "language": "python",
   "name": "python3"
  },
  "language_info": {
   "codemirror_mode": {
    "name": "ipython",
    "version": 3
   },
   "file_extension": ".py",
   "mimetype": "text/x-python",
   "name": "python",
   "nbconvert_exporter": "python",
   "pygments_lexer": "ipython3",
   "version": "3.9.12"
  }
 },
 "nbformat": 4,
 "nbformat_minor": 5
}
