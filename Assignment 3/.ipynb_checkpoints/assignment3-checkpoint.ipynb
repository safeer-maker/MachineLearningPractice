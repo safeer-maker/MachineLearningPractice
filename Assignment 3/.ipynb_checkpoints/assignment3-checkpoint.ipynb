{
 "cells": [
  {
   "cell_type": "markdown",
   "id": "f11cec41-02c9-4afd-8347-d0febce7538a",
   "metadata": {
    "id": "f11cec41-02c9-4afd-8347-d0febce7538a"
   },
   "source": [
    "# Room Cancellation Classification\n",
    "\n",
    "In this assignment, you will be performing EDA and predictive modelling on a dataset of hotel reservations. The dataset is available from the attached `hotel_bookings.csv` file.\n",
    "\n",
    "In this Jupyter notebook, please, document your results and the way you have obtained them. The results of each sub-question should be printed as the result of its corresponding cell.\n",
    "Please make sure that the datasets and other outputs are easily identifiable, i.e. use descriptive names for as is suitable for each corresponding question.\n",
    "Give your commented Python code and answers in the corresponding provided cells. Make sure to answer all questions in a clear and explicit manner. _Please do not change the general structure of this notebook_. You can, however, **add additional markdown or code cells** if necessary. <b>Please DO NOT CLEAR THE OUTPUT of the notebook you are submitting! </b>\n",
    "\n",
    "**Submission instructions**:\n",
    "For submission, make a zip file containing your notebook and the attached dataset and name it as `<your_roll_number>_a3.zip` "
   ]
  },
  {
   "cell_type": "code",
   "execution_count": 1,
   "id": "0165ad40-6efd-42ae-8af4-d0aaa2833468",
   "metadata": {
    "id": "0165ad40-6efd-42ae-8af4-d0aaa2833468"
   },
   "outputs": [],
   "source": [
    "# Add all imports here\n",
    "\n",
    "import pandas as pd\n",
    "import numpy as np\n",
    "import seaborn as sns\n",
    "import missingno as msno\n",
    "from matplotlib import rcParams\n",
    "from matplotlib import pyplot as plt\n",
    "# add more when required\n",
    "\n",
    "rcParams[\"figure.figsize\"] = 20, 10"
   ]
  },
  {
   "cell_type": "code",
   "execution_count": 2,
   "id": "ede09ef0-f01f-44d7-8ccf-3692d1094794",
   "metadata": {
    "id": "ede09ef0-f01f-44d7-8ccf-3692d1094794",
    "outputId": "e6a3799e-f70d-4b1f-ed95-fcb5f574a144"
   },
   "outputs": [
    {
     "data": {
      "text/html": [
       "<div>\n",
       "<style scoped>\n",
       "    .dataframe tbody tr th:only-of-type {\n",
       "        vertical-align: middle;\n",
       "    }\n",
       "\n",
       "    .dataframe tbody tr th {\n",
       "        vertical-align: top;\n",
       "    }\n",
       "\n",
       "    .dataframe thead th {\n",
       "        text-align: right;\n",
       "    }\n",
       "</style>\n",
       "<table border=\"1\" class=\"dataframe\">\n",
       "  <thead>\n",
       "    <tr style=\"text-align: right;\">\n",
       "      <th></th>\n",
       "      <th>hotel</th>\n",
       "      <th>is_canceled</th>\n",
       "      <th>lead_time</th>\n",
       "      <th>arrival_date_year</th>\n",
       "      <th>arrival_date_month</th>\n",
       "      <th>arrival_date_week_number</th>\n",
       "      <th>arrival_date_day_of_month</th>\n",
       "      <th>stays_in_weekend_nights</th>\n",
       "      <th>stays_in_week_nights</th>\n",
       "      <th>adults</th>\n",
       "      <th>...</th>\n",
       "      <th>deposit_type</th>\n",
       "      <th>agent</th>\n",
       "      <th>company</th>\n",
       "      <th>days_in_waiting_list</th>\n",
       "      <th>customer_type</th>\n",
       "      <th>adr</th>\n",
       "      <th>required_car_parking_spaces</th>\n",
       "      <th>total_of_special_requests</th>\n",
       "      <th>reservation_status</th>\n",
       "      <th>reservation_status_date</th>\n",
       "    </tr>\n",
       "  </thead>\n",
       "  <tbody>\n",
       "    <tr>\n",
       "      <th>0</th>\n",
       "      <td>Resort Hotel</td>\n",
       "      <td>0</td>\n",
       "      <td>342</td>\n",
       "      <td>2015</td>\n",
       "      <td>July</td>\n",
       "      <td>27</td>\n",
       "      <td>1</td>\n",
       "      <td>0</td>\n",
       "      <td>0</td>\n",
       "      <td>2</td>\n",
       "      <td>...</td>\n",
       "      <td>No Deposit</td>\n",
       "      <td>NaN</td>\n",
       "      <td>NaN</td>\n",
       "      <td>0</td>\n",
       "      <td>Transient</td>\n",
       "      <td>0.00</td>\n",
       "      <td>0</td>\n",
       "      <td>0</td>\n",
       "      <td>Check-Out</td>\n",
       "      <td>2015-07-01</td>\n",
       "    </tr>\n",
       "    <tr>\n",
       "      <th>1</th>\n",
       "      <td>Resort Hotel</td>\n",
       "      <td>0</td>\n",
       "      <td>737</td>\n",
       "      <td>2015</td>\n",
       "      <td>July</td>\n",
       "      <td>27</td>\n",
       "      <td>1</td>\n",
       "      <td>0</td>\n",
       "      <td>0</td>\n",
       "      <td>2</td>\n",
       "      <td>...</td>\n",
       "      <td>No Deposit</td>\n",
       "      <td>NaN</td>\n",
       "      <td>NaN</td>\n",
       "      <td>0</td>\n",
       "      <td>Transient</td>\n",
       "      <td>0.00</td>\n",
       "      <td>0</td>\n",
       "      <td>0</td>\n",
       "      <td>Check-Out</td>\n",
       "      <td>2015-07-01</td>\n",
       "    </tr>\n",
       "    <tr>\n",
       "      <th>2</th>\n",
       "      <td>Resort Hotel</td>\n",
       "      <td>0</td>\n",
       "      <td>7</td>\n",
       "      <td>2015</td>\n",
       "      <td>July</td>\n",
       "      <td>27</td>\n",
       "      <td>1</td>\n",
       "      <td>0</td>\n",
       "      <td>1</td>\n",
       "      <td>1</td>\n",
       "      <td>...</td>\n",
       "      <td>No Deposit</td>\n",
       "      <td>NaN</td>\n",
       "      <td>NaN</td>\n",
       "      <td>0</td>\n",
       "      <td>Transient</td>\n",
       "      <td>75.00</td>\n",
       "      <td>0</td>\n",
       "      <td>0</td>\n",
       "      <td>Check-Out</td>\n",
       "      <td>2015-07-02</td>\n",
       "    </tr>\n",
       "    <tr>\n",
       "      <th>3</th>\n",
       "      <td>Resort Hotel</td>\n",
       "      <td>0</td>\n",
       "      <td>13</td>\n",
       "      <td>2015</td>\n",
       "      <td>July</td>\n",
       "      <td>27</td>\n",
       "      <td>1</td>\n",
       "      <td>0</td>\n",
       "      <td>1</td>\n",
       "      <td>1</td>\n",
       "      <td>...</td>\n",
       "      <td>No Deposit</td>\n",
       "      <td>304.0</td>\n",
       "      <td>NaN</td>\n",
       "      <td>0</td>\n",
       "      <td>Transient</td>\n",
       "      <td>75.00</td>\n",
       "      <td>0</td>\n",
       "      <td>0</td>\n",
       "      <td>Check-Out</td>\n",
       "      <td>2015-07-02</td>\n",
       "    </tr>\n",
       "    <tr>\n",
       "      <th>4</th>\n",
       "      <td>Resort Hotel</td>\n",
       "      <td>0</td>\n",
       "      <td>14</td>\n",
       "      <td>2015</td>\n",
       "      <td>July</td>\n",
       "      <td>27</td>\n",
       "      <td>1</td>\n",
       "      <td>0</td>\n",
       "      <td>2</td>\n",
       "      <td>2</td>\n",
       "      <td>...</td>\n",
       "      <td>No Deposit</td>\n",
       "      <td>240.0</td>\n",
       "      <td>NaN</td>\n",
       "      <td>0</td>\n",
       "      <td>Transient</td>\n",
       "      <td>98.00</td>\n",
       "      <td>0</td>\n",
       "      <td>1</td>\n",
       "      <td>Check-Out</td>\n",
       "      <td>2015-07-03</td>\n",
       "    </tr>\n",
       "    <tr>\n",
       "      <th>...</th>\n",
       "      <td>...</td>\n",
       "      <td>...</td>\n",
       "      <td>...</td>\n",
       "      <td>...</td>\n",
       "      <td>...</td>\n",
       "      <td>...</td>\n",
       "      <td>...</td>\n",
       "      <td>...</td>\n",
       "      <td>...</td>\n",
       "      <td>...</td>\n",
       "      <td>...</td>\n",
       "      <td>...</td>\n",
       "      <td>...</td>\n",
       "      <td>...</td>\n",
       "      <td>...</td>\n",
       "      <td>...</td>\n",
       "      <td>...</td>\n",
       "      <td>...</td>\n",
       "      <td>...</td>\n",
       "      <td>...</td>\n",
       "      <td>...</td>\n",
       "    </tr>\n",
       "    <tr>\n",
       "      <th>119385</th>\n",
       "      <td>City Hotel</td>\n",
       "      <td>0</td>\n",
       "      <td>23</td>\n",
       "      <td>2017</td>\n",
       "      <td>August</td>\n",
       "      <td>35</td>\n",
       "      <td>30</td>\n",
       "      <td>2</td>\n",
       "      <td>5</td>\n",
       "      <td>2</td>\n",
       "      <td>...</td>\n",
       "      <td>No Deposit</td>\n",
       "      <td>394.0</td>\n",
       "      <td>NaN</td>\n",
       "      <td>0</td>\n",
       "      <td>Transient</td>\n",
       "      <td>96.14</td>\n",
       "      <td>0</td>\n",
       "      <td>0</td>\n",
       "      <td>Check-Out</td>\n",
       "      <td>2017-09-06</td>\n",
       "    </tr>\n",
       "    <tr>\n",
       "      <th>119386</th>\n",
       "      <td>City Hotel</td>\n",
       "      <td>0</td>\n",
       "      <td>102</td>\n",
       "      <td>2017</td>\n",
       "      <td>August</td>\n",
       "      <td>35</td>\n",
       "      <td>31</td>\n",
       "      <td>2</td>\n",
       "      <td>5</td>\n",
       "      <td>3</td>\n",
       "      <td>...</td>\n",
       "      <td>No Deposit</td>\n",
       "      <td>9.0</td>\n",
       "      <td>NaN</td>\n",
       "      <td>0</td>\n",
       "      <td>Transient</td>\n",
       "      <td>225.43</td>\n",
       "      <td>0</td>\n",
       "      <td>2</td>\n",
       "      <td>Check-Out</td>\n",
       "      <td>2017-09-07</td>\n",
       "    </tr>\n",
       "    <tr>\n",
       "      <th>119387</th>\n",
       "      <td>City Hotel</td>\n",
       "      <td>0</td>\n",
       "      <td>34</td>\n",
       "      <td>2017</td>\n",
       "      <td>August</td>\n",
       "      <td>35</td>\n",
       "      <td>31</td>\n",
       "      <td>2</td>\n",
       "      <td>5</td>\n",
       "      <td>2</td>\n",
       "      <td>...</td>\n",
       "      <td>No Deposit</td>\n",
       "      <td>9.0</td>\n",
       "      <td>NaN</td>\n",
       "      <td>0</td>\n",
       "      <td>Transient</td>\n",
       "      <td>157.71</td>\n",
       "      <td>0</td>\n",
       "      <td>4</td>\n",
       "      <td>Check-Out</td>\n",
       "      <td>2017-09-07</td>\n",
       "    </tr>\n",
       "    <tr>\n",
       "      <th>119388</th>\n",
       "      <td>City Hotel</td>\n",
       "      <td>0</td>\n",
       "      <td>109</td>\n",
       "      <td>2017</td>\n",
       "      <td>August</td>\n",
       "      <td>35</td>\n",
       "      <td>31</td>\n",
       "      <td>2</td>\n",
       "      <td>5</td>\n",
       "      <td>2</td>\n",
       "      <td>...</td>\n",
       "      <td>No Deposit</td>\n",
       "      <td>89.0</td>\n",
       "      <td>NaN</td>\n",
       "      <td>0</td>\n",
       "      <td>Transient</td>\n",
       "      <td>104.40</td>\n",
       "      <td>0</td>\n",
       "      <td>0</td>\n",
       "      <td>Check-Out</td>\n",
       "      <td>2017-09-07</td>\n",
       "    </tr>\n",
       "    <tr>\n",
       "      <th>119389</th>\n",
       "      <td>City Hotel</td>\n",
       "      <td>0</td>\n",
       "      <td>205</td>\n",
       "      <td>2017</td>\n",
       "      <td>August</td>\n",
       "      <td>35</td>\n",
       "      <td>29</td>\n",
       "      <td>2</td>\n",
       "      <td>7</td>\n",
       "      <td>2</td>\n",
       "      <td>...</td>\n",
       "      <td>No Deposit</td>\n",
       "      <td>9.0</td>\n",
       "      <td>NaN</td>\n",
       "      <td>0</td>\n",
       "      <td>Transient</td>\n",
       "      <td>151.20</td>\n",
       "      <td>0</td>\n",
       "      <td>2</td>\n",
       "      <td>Check-Out</td>\n",
       "      <td>2017-09-07</td>\n",
       "    </tr>\n",
       "  </tbody>\n",
       "</table>\n",
       "<p>119390 rows × 32 columns</p>\n",
       "</div>"
      ],
      "text/plain": [
       "               hotel  is_canceled  lead_time  arrival_date_year  \\\n",
       "0       Resort Hotel            0        342               2015   \n",
       "1       Resort Hotel            0        737               2015   \n",
       "2       Resort Hotel            0          7               2015   \n",
       "3       Resort Hotel            0         13               2015   \n",
       "4       Resort Hotel            0         14               2015   \n",
       "...              ...          ...        ...                ...   \n",
       "119385    City Hotel            0         23               2017   \n",
       "119386    City Hotel            0        102               2017   \n",
       "119387    City Hotel            0         34               2017   \n",
       "119388    City Hotel            0        109               2017   \n",
       "119389    City Hotel            0        205               2017   \n",
       "\n",
       "       arrival_date_month  arrival_date_week_number  \\\n",
       "0                    July                        27   \n",
       "1                    July                        27   \n",
       "2                    July                        27   \n",
       "3                    July                        27   \n",
       "4                    July                        27   \n",
       "...                   ...                       ...   \n",
       "119385             August                        35   \n",
       "119386             August                        35   \n",
       "119387             August                        35   \n",
       "119388             August                        35   \n",
       "119389             August                        35   \n",
       "\n",
       "        arrival_date_day_of_month  stays_in_weekend_nights  \\\n",
       "0                               1                        0   \n",
       "1                               1                        0   \n",
       "2                               1                        0   \n",
       "3                               1                        0   \n",
       "4                               1                        0   \n",
       "...                           ...                      ...   \n",
       "119385                         30                        2   \n",
       "119386                         31                        2   \n",
       "119387                         31                        2   \n",
       "119388                         31                        2   \n",
       "119389                         29                        2   \n",
       "\n",
       "        stays_in_week_nights  adults  ...  deposit_type  agent company  \\\n",
       "0                          0       2  ...    No Deposit    NaN     NaN   \n",
       "1                          0       2  ...    No Deposit    NaN     NaN   \n",
       "2                          1       1  ...    No Deposit    NaN     NaN   \n",
       "3                          1       1  ...    No Deposit  304.0     NaN   \n",
       "4                          2       2  ...    No Deposit  240.0     NaN   \n",
       "...                      ...     ...  ...           ...    ...     ...   \n",
       "119385                     5       2  ...    No Deposit  394.0     NaN   \n",
       "119386                     5       3  ...    No Deposit    9.0     NaN   \n",
       "119387                     5       2  ...    No Deposit    9.0     NaN   \n",
       "119388                     5       2  ...    No Deposit   89.0     NaN   \n",
       "119389                     7       2  ...    No Deposit    9.0     NaN   \n",
       "\n",
       "       days_in_waiting_list customer_type     adr  \\\n",
       "0                         0     Transient    0.00   \n",
       "1                         0     Transient    0.00   \n",
       "2                         0     Transient   75.00   \n",
       "3                         0     Transient   75.00   \n",
       "4                         0     Transient   98.00   \n",
       "...                     ...           ...     ...   \n",
       "119385                    0     Transient   96.14   \n",
       "119386                    0     Transient  225.43   \n",
       "119387                    0     Transient  157.71   \n",
       "119388                    0     Transient  104.40   \n",
       "119389                    0     Transient  151.20   \n",
       "\n",
       "        required_car_parking_spaces  total_of_special_requests  \\\n",
       "0                                 0                          0   \n",
       "1                                 0                          0   \n",
       "2                                 0                          0   \n",
       "3                                 0                          0   \n",
       "4                                 0                          1   \n",
       "...                             ...                        ...   \n",
       "119385                            0                          0   \n",
       "119386                            0                          2   \n",
       "119387                            0                          4   \n",
       "119388                            0                          0   \n",
       "119389                            0                          2   \n",
       "\n",
       "        reservation_status reservation_status_date  \n",
       "0                Check-Out              2015-07-01  \n",
       "1                Check-Out              2015-07-01  \n",
       "2                Check-Out              2015-07-02  \n",
       "3                Check-Out              2015-07-02  \n",
       "4                Check-Out              2015-07-03  \n",
       "...                    ...                     ...  \n",
       "119385           Check-Out              2017-09-06  \n",
       "119386           Check-Out              2017-09-07  \n",
       "119387           Check-Out              2017-09-07  \n",
       "119388           Check-Out              2017-09-07  \n",
       "119389           Check-Out              2017-09-07  \n",
       "\n",
       "[119390 rows x 32 columns]"
      ]
     },
     "execution_count": 2,
     "metadata": {},
     "output_type": "execute_result"
    }
   ],
   "source": [
    "df = pd.read_csv(\"hotel_bookings.csv\")\n",
    "df"
   ]
  },
  {
   "cell_type": "markdown",
   "id": "950e4a8a-6f15-4ca8-a407-cc17eb32adc1",
   "metadata": {
    "id": "950e4a8a-6f15-4ca8-a407-cc17eb32adc1"
   },
   "source": [
    "## Data Description\n",
    "\n",
    "[Original Source](https://github.com/rfordatascience/tidytuesday/blob/master/data/2020/2020-02-11/readme.md)\n",
    "\n",
    "This data consists of room reservations for two hotels: (i) a city hotel and (ii) a resort hotel. The columns are described as follows:\n",
    "\n",
    "|variable                       |class     |description |\n",
    "|:------------------------------|:---------|:-----------|\n",
    "|hotel                          |character | Hotel (H1 = Resort Hotel or H2 = City Hotel) |\n",
    "|is_canceled                    |double    | Value indicating if the booking was canceled (1) or not (0) |\n",
    "|lead_time                      |double    | Number of days that elapsed between the entering date of the booking into the PMS and the arrival date |\n",
    "|arrival_date_year              |double    | Year of arrival date|\n",
    "|arrival_date_month             |character | Month of arrival date|\n",
    "|arrival_date_week_number       |double    | Week number of year for arrival date|\n",
    "|arrival_date_day_of_month      |double    | Day of arrival date|\n",
    "|stays_in_weekend_nights        |double    | Number of weekend nights (Saturday or Sunday) the guest stayed or booked to stay at the hotel |\n",
    "|stays_in_week_nights           |double    |  Number of week nights (Monday to Friday) the guest stayed or booked to stay at the hotel|\n",
    "|adults                         |double    | Number of adults|\n",
    "|children                       |double    | Number of children|\n",
    "|babies                         |double    |Number of babies |\n",
    "|meal                           |character | Type of meal booked. Categories are presented in standard hospitality meal packages: <br> Undefined/SC – no meal package;<br>BB – Bed & Breakfast; <br> HB – Half board (breakfast and one other meal – usually dinner); <br> FB – Full board (breakfast, lunch and dinner) |\n",
    "|country                        |character | Country of origin. Categories are represented in the ISO 3155–3:2013 format |\n",
    "|market_segment                 |character | Market segment designation. In categories, the term “TA” means “Travel Agents” and “TO” means “Tour Operators” |\n",
    "|distribution_channel           |character | Booking distribution channel. The term “TA” means “Travel Agents” and “TO” means “Tour Operators” |\n",
    "|is_repeated_guest              |double    | Value indicating if the booking name was from a repeated guest (1) or not (0) |\n",
    "|previous_cancellations         |double    | Number of previous bookings that were cancelled by the customer prior to the current booking |\n",
    "|previous_bookings_not_canceled |double    | Number of previous bookings not cancelled by the customer prior to the current booking |\n",
    "|reserved_room_type             |character | Code of room type reserved. Code is presented instead of designation for anonymity reasons |\n",
    "|assigned_room_type             |character | Code for the type of room assigned to the booking. Sometimes the assigned room type differs from the reserved room type due to hotel operation reasons (e.g. overbooking) or by customer request. Code is presented instead of designation for anonymity reasons |\n",
    "|booking_changes                |double    | Number of changes/amendments made to the booking from the moment the booking was entered on the PMS until the moment of check-in or cancellation|\n",
    "|deposit_type                   |character | Indication on if the customer made a deposit to guarantee the booking. This variable can assume three categories:<br>No Deposit – no deposit was made;<br>Non Refund – a deposit was made in the value of the total stay cost;<br>Refundable – a deposit was made with a value under the total cost of stay. |\n",
    "|agent                          |character | ID of the travel agency that made the booking |\n",
    "|company                        |character | ID of the company/entity that made the booking or responsible for paying the booking. ID is presented instead of designation for anonymity reasons |\n",
    "|days_in_waiting_list           |double    | Number of days the booking was in the waiting list before it was confirmed to the customer |\n",
    "|customer_type                  |character | Type of booking, assuming one of four categories:<br>Contract - when the booking has an allotment or other type of contract associated to it;<br>Group – when the booking is associated to a group;<br>Transient – when the booking is not part of a group or contract, and is not associated to other transient booking;<br>Transient-party – when the booking is transient, but is associated to at least other transient booking|\n",
    "|adr                            |double    | Average Daily Rate as defined by dividing the sum of all lodging transactions by the total number of staying nights |\n",
    "|required_car_parking_spaces    |double    | Number of car parking spaces required by the customer |\n",
    "|total_of_special_requests      |double    | Number of special requests made by the customer (e.g. twin bed or high floor)|\n",
    "|reservation_status             |character | Reservation last status, assuming one of three categories:<br>Canceled – booking was canceled by the customer;<br>Check-Out – customer has checked in but already departed;<br>No-Show – customer did not check-in and did inform the hotel of the reason why |\n",
    "|reservation_status_date        |double    | Date at which the last status was set. This variable can be used in conjunction with the ReservationStatus to understand when was the booking canceled or when did the customer checked-out of the hotel|\n"
   ]
  },
  {
   "cell_type": "markdown",
   "id": "5b70a032-7fb7-4935-9ae3-b362d3bd4669",
   "metadata": {
    "id": "5b70a032-7fb7-4935-9ae3-b362d3bd4669"
   },
   "source": [
    "## Part 0\n",
    "\n",
    "The `children`, `adults` and `babies` columns cannot have a value of zero simultaneously. Filter out the rows, which show this behavior"
   ]
  },
  {
   "cell_type": "code",
   "execution_count": 32,
   "id": "ff43288f-9739-4c8a-834c-992c97fbe9b7",
   "metadata": {
    "id": "ff43288f-9739-4c8a-834c-992c97fbe9b7"
   },
   "outputs": [],
   "source": [
    "# Your code here\n",
    "new_df = df[(df['adults']> 0) | (df['children'] > 0) | (df['babies']>0)]\n",
    "\n",
    "new_df.reset_index( inplace=True)\n",
    "del new_df['index']\n",
    "mod_df = new_df"
   ]
  },
  {
   "cell_type": "code",
   "execution_count": 33,
   "id": "b69b6587",
   "metadata": {},
   "outputs": [
    {
     "data": {
      "text/html": [
       "<div>\n",
       "<style scoped>\n",
       "    .dataframe tbody tr th:only-of-type {\n",
       "        vertical-align: middle;\n",
       "    }\n",
       "\n",
       "    .dataframe tbody tr th {\n",
       "        vertical-align: top;\n",
       "    }\n",
       "\n",
       "    .dataframe thead th {\n",
       "        text-align: right;\n",
       "    }\n",
       "</style>\n",
       "<table border=\"1\" class=\"dataframe\">\n",
       "  <thead>\n",
       "    <tr style=\"text-align: right;\">\n",
       "      <th></th>\n",
       "      <th>hotel</th>\n",
       "      <th>is_canceled</th>\n",
       "      <th>lead_time</th>\n",
       "      <th>arrival_date_year</th>\n",
       "      <th>arrival_date_month</th>\n",
       "      <th>arrival_date_week_number</th>\n",
       "      <th>arrival_date_day_of_month</th>\n",
       "      <th>stays_in_weekend_nights</th>\n",
       "      <th>stays_in_week_nights</th>\n",
       "      <th>adults</th>\n",
       "      <th>...</th>\n",
       "      <th>deposit_type</th>\n",
       "      <th>agent</th>\n",
       "      <th>company</th>\n",
       "      <th>days_in_waiting_list</th>\n",
       "      <th>customer_type</th>\n",
       "      <th>adr</th>\n",
       "      <th>required_car_parking_spaces</th>\n",
       "      <th>total_of_special_requests</th>\n",
       "      <th>reservation_status</th>\n",
       "      <th>reservation_status_date</th>\n",
       "    </tr>\n",
       "  </thead>\n",
       "  <tbody>\n",
       "    <tr>\n",
       "      <th>0</th>\n",
       "      <td>Resort Hotel</td>\n",
       "      <td>0</td>\n",
       "      <td>342</td>\n",
       "      <td>2015</td>\n",
       "      <td>July</td>\n",
       "      <td>27</td>\n",
       "      <td>1</td>\n",
       "      <td>0</td>\n",
       "      <td>0</td>\n",
       "      <td>2</td>\n",
       "      <td>...</td>\n",
       "      <td>No Deposit</td>\n",
       "      <td>NaN</td>\n",
       "      <td>NaN</td>\n",
       "      <td>0</td>\n",
       "      <td>Transient</td>\n",
       "      <td>0.00</td>\n",
       "      <td>0</td>\n",
       "      <td>0</td>\n",
       "      <td>Check-Out</td>\n",
       "      <td>2015-07-01</td>\n",
       "    </tr>\n",
       "    <tr>\n",
       "      <th>1</th>\n",
       "      <td>Resort Hotel</td>\n",
       "      <td>0</td>\n",
       "      <td>737</td>\n",
       "      <td>2015</td>\n",
       "      <td>July</td>\n",
       "      <td>27</td>\n",
       "      <td>1</td>\n",
       "      <td>0</td>\n",
       "      <td>0</td>\n",
       "      <td>2</td>\n",
       "      <td>...</td>\n",
       "      <td>No Deposit</td>\n",
       "      <td>NaN</td>\n",
       "      <td>NaN</td>\n",
       "      <td>0</td>\n",
       "      <td>Transient</td>\n",
       "      <td>0.00</td>\n",
       "      <td>0</td>\n",
       "      <td>0</td>\n",
       "      <td>Check-Out</td>\n",
       "      <td>2015-07-01</td>\n",
       "    </tr>\n",
       "    <tr>\n",
       "      <th>2</th>\n",
       "      <td>Resort Hotel</td>\n",
       "      <td>0</td>\n",
       "      <td>7</td>\n",
       "      <td>2015</td>\n",
       "      <td>July</td>\n",
       "      <td>27</td>\n",
       "      <td>1</td>\n",
       "      <td>0</td>\n",
       "      <td>1</td>\n",
       "      <td>1</td>\n",
       "      <td>...</td>\n",
       "      <td>No Deposit</td>\n",
       "      <td>NaN</td>\n",
       "      <td>NaN</td>\n",
       "      <td>0</td>\n",
       "      <td>Transient</td>\n",
       "      <td>75.00</td>\n",
       "      <td>0</td>\n",
       "      <td>0</td>\n",
       "      <td>Check-Out</td>\n",
       "      <td>2015-07-02</td>\n",
       "    </tr>\n",
       "    <tr>\n",
       "      <th>3</th>\n",
       "      <td>Resort Hotel</td>\n",
       "      <td>0</td>\n",
       "      <td>13</td>\n",
       "      <td>2015</td>\n",
       "      <td>July</td>\n",
       "      <td>27</td>\n",
       "      <td>1</td>\n",
       "      <td>0</td>\n",
       "      <td>1</td>\n",
       "      <td>1</td>\n",
       "      <td>...</td>\n",
       "      <td>No Deposit</td>\n",
       "      <td>304.0</td>\n",
       "      <td>NaN</td>\n",
       "      <td>0</td>\n",
       "      <td>Transient</td>\n",
       "      <td>75.00</td>\n",
       "      <td>0</td>\n",
       "      <td>0</td>\n",
       "      <td>Check-Out</td>\n",
       "      <td>2015-07-02</td>\n",
       "    </tr>\n",
       "    <tr>\n",
       "      <th>4</th>\n",
       "      <td>Resort Hotel</td>\n",
       "      <td>0</td>\n",
       "      <td>14</td>\n",
       "      <td>2015</td>\n",
       "      <td>July</td>\n",
       "      <td>27</td>\n",
       "      <td>1</td>\n",
       "      <td>0</td>\n",
       "      <td>2</td>\n",
       "      <td>2</td>\n",
       "      <td>...</td>\n",
       "      <td>No Deposit</td>\n",
       "      <td>240.0</td>\n",
       "      <td>NaN</td>\n",
       "      <td>0</td>\n",
       "      <td>Transient</td>\n",
       "      <td>98.00</td>\n",
       "      <td>0</td>\n",
       "      <td>1</td>\n",
       "      <td>Check-Out</td>\n",
       "      <td>2015-07-03</td>\n",
       "    </tr>\n",
       "    <tr>\n",
       "      <th>...</th>\n",
       "      <td>...</td>\n",
       "      <td>...</td>\n",
       "      <td>...</td>\n",
       "      <td>...</td>\n",
       "      <td>...</td>\n",
       "      <td>...</td>\n",
       "      <td>...</td>\n",
       "      <td>...</td>\n",
       "      <td>...</td>\n",
       "      <td>...</td>\n",
       "      <td>...</td>\n",
       "      <td>...</td>\n",
       "      <td>...</td>\n",
       "      <td>...</td>\n",
       "      <td>...</td>\n",
       "      <td>...</td>\n",
       "      <td>...</td>\n",
       "      <td>...</td>\n",
       "      <td>...</td>\n",
       "      <td>...</td>\n",
       "      <td>...</td>\n",
       "    </tr>\n",
       "    <tr>\n",
       "      <th>119205</th>\n",
       "      <td>City Hotel</td>\n",
       "      <td>0</td>\n",
       "      <td>23</td>\n",
       "      <td>2017</td>\n",
       "      <td>August</td>\n",
       "      <td>35</td>\n",
       "      <td>30</td>\n",
       "      <td>2</td>\n",
       "      <td>5</td>\n",
       "      <td>2</td>\n",
       "      <td>...</td>\n",
       "      <td>No Deposit</td>\n",
       "      <td>394.0</td>\n",
       "      <td>NaN</td>\n",
       "      <td>0</td>\n",
       "      <td>Transient</td>\n",
       "      <td>96.14</td>\n",
       "      <td>0</td>\n",
       "      <td>0</td>\n",
       "      <td>Check-Out</td>\n",
       "      <td>2017-09-06</td>\n",
       "    </tr>\n",
       "    <tr>\n",
       "      <th>119206</th>\n",
       "      <td>City Hotel</td>\n",
       "      <td>0</td>\n",
       "      <td>102</td>\n",
       "      <td>2017</td>\n",
       "      <td>August</td>\n",
       "      <td>35</td>\n",
       "      <td>31</td>\n",
       "      <td>2</td>\n",
       "      <td>5</td>\n",
       "      <td>3</td>\n",
       "      <td>...</td>\n",
       "      <td>No Deposit</td>\n",
       "      <td>9.0</td>\n",
       "      <td>NaN</td>\n",
       "      <td>0</td>\n",
       "      <td>Transient</td>\n",
       "      <td>225.43</td>\n",
       "      <td>0</td>\n",
       "      <td>2</td>\n",
       "      <td>Check-Out</td>\n",
       "      <td>2017-09-07</td>\n",
       "    </tr>\n",
       "    <tr>\n",
       "      <th>119207</th>\n",
       "      <td>City Hotel</td>\n",
       "      <td>0</td>\n",
       "      <td>34</td>\n",
       "      <td>2017</td>\n",
       "      <td>August</td>\n",
       "      <td>35</td>\n",
       "      <td>31</td>\n",
       "      <td>2</td>\n",
       "      <td>5</td>\n",
       "      <td>2</td>\n",
       "      <td>...</td>\n",
       "      <td>No Deposit</td>\n",
       "      <td>9.0</td>\n",
       "      <td>NaN</td>\n",
       "      <td>0</td>\n",
       "      <td>Transient</td>\n",
       "      <td>157.71</td>\n",
       "      <td>0</td>\n",
       "      <td>4</td>\n",
       "      <td>Check-Out</td>\n",
       "      <td>2017-09-07</td>\n",
       "    </tr>\n",
       "    <tr>\n",
       "      <th>119208</th>\n",
       "      <td>City Hotel</td>\n",
       "      <td>0</td>\n",
       "      <td>109</td>\n",
       "      <td>2017</td>\n",
       "      <td>August</td>\n",
       "      <td>35</td>\n",
       "      <td>31</td>\n",
       "      <td>2</td>\n",
       "      <td>5</td>\n",
       "      <td>2</td>\n",
       "      <td>...</td>\n",
       "      <td>No Deposit</td>\n",
       "      <td>89.0</td>\n",
       "      <td>NaN</td>\n",
       "      <td>0</td>\n",
       "      <td>Transient</td>\n",
       "      <td>104.40</td>\n",
       "      <td>0</td>\n",
       "      <td>0</td>\n",
       "      <td>Check-Out</td>\n",
       "      <td>2017-09-07</td>\n",
       "    </tr>\n",
       "    <tr>\n",
       "      <th>119209</th>\n",
       "      <td>City Hotel</td>\n",
       "      <td>0</td>\n",
       "      <td>205</td>\n",
       "      <td>2017</td>\n",
       "      <td>August</td>\n",
       "      <td>35</td>\n",
       "      <td>29</td>\n",
       "      <td>2</td>\n",
       "      <td>7</td>\n",
       "      <td>2</td>\n",
       "      <td>...</td>\n",
       "      <td>No Deposit</td>\n",
       "      <td>9.0</td>\n",
       "      <td>NaN</td>\n",
       "      <td>0</td>\n",
       "      <td>Transient</td>\n",
       "      <td>151.20</td>\n",
       "      <td>0</td>\n",
       "      <td>2</td>\n",
       "      <td>Check-Out</td>\n",
       "      <td>2017-09-07</td>\n",
       "    </tr>\n",
       "  </tbody>\n",
       "</table>\n",
       "<p>119210 rows × 32 columns</p>\n",
       "</div>"
      ],
      "text/plain": [
       "               hotel  is_canceled  lead_time  arrival_date_year  \\\n",
       "0       Resort Hotel            0        342               2015   \n",
       "1       Resort Hotel            0        737               2015   \n",
       "2       Resort Hotel            0          7               2015   \n",
       "3       Resort Hotel            0         13               2015   \n",
       "4       Resort Hotel            0         14               2015   \n",
       "...              ...          ...        ...                ...   \n",
       "119205    City Hotel            0         23               2017   \n",
       "119206    City Hotel            0        102               2017   \n",
       "119207    City Hotel            0         34               2017   \n",
       "119208    City Hotel            0        109               2017   \n",
       "119209    City Hotel            0        205               2017   \n",
       "\n",
       "       arrival_date_month  arrival_date_week_number  \\\n",
       "0                    July                        27   \n",
       "1                    July                        27   \n",
       "2                    July                        27   \n",
       "3                    July                        27   \n",
       "4                    July                        27   \n",
       "...                   ...                       ...   \n",
       "119205             August                        35   \n",
       "119206             August                        35   \n",
       "119207             August                        35   \n",
       "119208             August                        35   \n",
       "119209             August                        35   \n",
       "\n",
       "        arrival_date_day_of_month  stays_in_weekend_nights  \\\n",
       "0                               1                        0   \n",
       "1                               1                        0   \n",
       "2                               1                        0   \n",
       "3                               1                        0   \n",
       "4                               1                        0   \n",
       "...                           ...                      ...   \n",
       "119205                         30                        2   \n",
       "119206                         31                        2   \n",
       "119207                         31                        2   \n",
       "119208                         31                        2   \n",
       "119209                         29                        2   \n",
       "\n",
       "        stays_in_week_nights  adults  ...  deposit_type  agent company  \\\n",
       "0                          0       2  ...    No Deposit    NaN     NaN   \n",
       "1                          0       2  ...    No Deposit    NaN     NaN   \n",
       "2                          1       1  ...    No Deposit    NaN     NaN   \n",
       "3                          1       1  ...    No Deposit  304.0     NaN   \n",
       "4                          2       2  ...    No Deposit  240.0     NaN   \n",
       "...                      ...     ...  ...           ...    ...     ...   \n",
       "119205                     5       2  ...    No Deposit  394.0     NaN   \n",
       "119206                     5       3  ...    No Deposit    9.0     NaN   \n",
       "119207                     5       2  ...    No Deposit    9.0     NaN   \n",
       "119208                     5       2  ...    No Deposit   89.0     NaN   \n",
       "119209                     7       2  ...    No Deposit    9.0     NaN   \n",
       "\n",
       "       days_in_waiting_list customer_type     adr  \\\n",
       "0                         0     Transient    0.00   \n",
       "1                         0     Transient    0.00   \n",
       "2                         0     Transient   75.00   \n",
       "3                         0     Transient   75.00   \n",
       "4                         0     Transient   98.00   \n",
       "...                     ...           ...     ...   \n",
       "119205                    0     Transient   96.14   \n",
       "119206                    0     Transient  225.43   \n",
       "119207                    0     Transient  157.71   \n",
       "119208                    0     Transient  104.40   \n",
       "119209                    0     Transient  151.20   \n",
       "\n",
       "        required_car_parking_spaces  total_of_special_requests  \\\n",
       "0                                 0                          0   \n",
       "1                                 0                          0   \n",
       "2                                 0                          0   \n",
       "3                                 0                          0   \n",
       "4                                 0                          1   \n",
       "...                             ...                        ...   \n",
       "119205                            0                          0   \n",
       "119206                            0                          2   \n",
       "119207                            0                          4   \n",
       "119208                            0                          0   \n",
       "119209                            0                          2   \n",
       "\n",
       "        reservation_status reservation_status_date  \n",
       "0                Check-Out              2015-07-01  \n",
       "1                Check-Out              2015-07-01  \n",
       "2                Check-Out              2015-07-02  \n",
       "3                Check-Out              2015-07-02  \n",
       "4                Check-Out              2015-07-03  \n",
       "...                    ...                     ...  \n",
       "119205           Check-Out              2017-09-06  \n",
       "119206           Check-Out              2017-09-07  \n",
       "119207           Check-Out              2017-09-07  \n",
       "119208           Check-Out              2017-09-07  \n",
       "119209           Check-Out              2017-09-07  \n",
       "\n",
       "[119210 rows x 32 columns]"
      ]
     },
     "execution_count": 33,
     "metadata": {},
     "output_type": "execute_result"
    }
   ],
   "source": [
    "mod_df"
   ]
  },
  {
   "cell_type": "markdown",
   "id": "bac3b0f6-4ca2-4cb4-8580-2d08ab0543f4",
   "metadata": {
    "id": "bac3b0f6-4ca2-4cb4-8580-2d08ab0543f4"
   },
   "source": [
    "## Part A - EDA\n",
    "\n",
    "To make ourselves familiar with the data, we will start with an explorative data analysis. In this part, you will be making different visualizations to support your answers.\n",
    "\n",
    "For each sub-question, a separate and single subplot should be shown. You also need to decide the optimal visualization for each case and use that."
   ]
  },
  {
   "cell_type": "markdown",
   "id": "1c713022-fd96-4906-a352-9e03446aacbb",
   "metadata": {
    "id": "1c713022-fd96-4906-a352-9e03446aacbb"
   },
   "source": [
    "### Question 1\n",
    "\n",
    "#### (a)\n",
    "Determine and visualize the top 10 countries and guest counts from which the maximum number of guests are coming from.\n",
    "\n",
    "#### (b)\n",
    "Repeat (a) but show the guest counts for the city and resort hotels separately. They both should be shown in the same plot\n",
    "\n",
    "#### (c)\n",
    "Repeat (b) for the non-cancelled bookings\n",
    "\n",
    "\n",
    "Each part should be done in a separate cell"
   ]
  },
  {
   "cell_type": "code",
   "execution_count": 54,
   "id": "6dd0720a-9bcd-4bcb-ab8e-6938bc70b26c",
   "metadata": {
    "id": "6dd0720a-9bcd-4bcb-ab8e-6938bc70b26c"
   },
   "outputs": [
    {
     "ename": "TypeError",
     "evalue": "cannot unpack non-iterable Figure object",
     "output_type": "error",
     "traceback": [
      "\u001b[1;31m---------------------------------------------------------------------------\u001b[0m",
      "\u001b[1;31mTypeError\u001b[0m                                 Traceback (most recent call last)",
      "Cell \u001b[1;32mIn [54], line 7\u001b[0m\n\u001b[0;32m      3\u001b[0m max_visit_country  \u001b[38;5;241m=\u001b[39m (mod_df [\u001b[38;5;124m'\u001b[39m\u001b[38;5;124mcountry\u001b[39m\u001b[38;5;124m'\u001b[39m]\u001b[38;5;241m.\u001b[39mvalue_counts())[:\u001b[38;5;241m10\u001b[39m]\n\u001b[0;32m      5\u001b[0m max_visit_country\u001b[38;5;241m.\u001b[39mindex[\u001b[38;5;241m0\u001b[39m]\n\u001b[1;32m----> 7\u001b[0m fig , ax \u001b[38;5;241m=\u001b[39m plt\u001b[38;5;241m.\u001b[39mfigure()\n\u001b[0;32m      8\u001b[0m ax\u001b[38;5;241m.\u001b[39mplot ( x \u001b[38;5;241m=\u001b[39m max_visit_country\u001b[38;5;241m.\u001b[39mindex, y \u001b[38;5;241m=\u001b[39m max_visit_country\u001b[38;5;241m.\u001b[39mvalues)\n\u001b[0;32m     10\u001b[0m figure\u001b[38;5;241m.\u001b[39mshape()\n",
      "\u001b[1;31mTypeError\u001b[0m: cannot unpack non-iterable Figure object"
     ]
    },
    {
     "data": {
      "text/plain": [
       "<Figure size 2000x1000 with 0 Axes>"
      ]
     },
     "metadata": {},
     "output_type": "display_data"
    }
   ],
   "source": [
    "# Your code here (a)\n",
    "\n",
    "max_visit_country  = (mod_df ['country'].value_counts())[:10]\n",
    "\n",
    "max_visit_country.index[0]\n",
    "\n",
    "fig , ax = plt.figure()\n",
    "ax.plot ( x = max_visit_country.index, y = max_visit_country.values)\n",
    "\n",
    "figure.shape()\n"
   ]
  },
  {
   "cell_type": "code",
   "execution_count": null,
   "id": "0cd5a15c-1365-4555-a9ef-ccf266eb48f9",
   "metadata": {
    "id": "0cd5a15c-1365-4555-a9ef-ccf266eb48f9"
   },
   "outputs": [],
   "source": [
    "# Your code here (b)"
   ]
  },
  {
   "cell_type": "code",
   "execution_count": null,
   "id": "ce485954-be1a-46c8-b438-5e6ee985583e",
   "metadata": {
    "id": "ce485954-be1a-46c8-b438-5e6ee985583e"
   },
   "outputs": [],
   "source": [
    "# Your code here (c)"
   ]
  },
  {
   "cell_type": "markdown",
   "id": "b83f1d69-8343-496d-8306-b86f7497c326",
   "metadata": {
    "id": "b83f1d69-8343-496d-8306-b86f7497c326"
   },
   "source": [
    "### Question 2\n",
    "Consider the non-cancelled bookings only.\n",
    "\n",
    "#### (a)\n",
    "Plot the distribution of the average amount (adr), the guests are charged per night for each room type.\n",
    "\n",
    "#### (b)\n",
    "Repeat (a) but separate the results for each hotel. A single plot should be shown\n"
   ]
  },
  {
   "cell_type": "code",
   "execution_count": null,
   "id": "8c212606-9d14-4135-9032-c1105a15deab",
   "metadata": {
    "id": "8c212606-9d14-4135-9032-c1105a15deab"
   },
   "outputs": [],
   "source": [
    "# Your code here (a)"
   ]
  },
  {
   "cell_type": "code",
   "execution_count": null,
   "id": "c193961d-bc27-4e10-90a9-b1cf75e38f5d",
   "metadata": {
    "id": "c193961d-bc27-4e10-90a9-b1cf75e38f5d"
   },
   "outputs": [],
   "source": [
    "# Your code here (b)"
   ]
  },
  {
   "cell_type": "markdown",
   "id": "9ae28eb1-c9bd-45e3-b11d-5d0ace8a71ac",
   "metadata": {
    "id": "9ae28eb1-c9bd-45e3-b11d-5d0ace8a71ac"
   },
   "source": [
    "### Question 3\n",
    "Consider the non-cancelled bookings only.\n",
    "\n",
    "#### (a)\n",
    "Plot the mean values for `adr` by month. Show the values separately for each hotel. Also, ensure that the axis elements are appropriately ordered.\n",
    "\n",
    "#### (b)\n",
    "Plot the mean values for `adr` by day of the week. Show the values separately for each hotel. Also, ensure that the axis elements are appropriately ordered.\n",
    "\n"
   ]
  },
  {
   "cell_type": "code",
   "execution_count": null,
   "id": "4960e608-6692-4f9d-862a-b7813120bb65",
   "metadata": {
    "id": "4960e608-6692-4f9d-862a-b7813120bb65"
   },
   "outputs": [],
   "source": [
    "# Your code here (a)"
   ]
  },
  {
   "cell_type": "code",
   "execution_count": null,
   "id": "6afaef60-011a-49d9-96e6-31c099f6594e",
   "metadata": {
    "id": "6afaef60-011a-49d9-96e6-31c099f6594e"
   },
   "outputs": [],
   "source": [
    "# Your code here (B)"
   ]
  },
  {
   "cell_type": "markdown",
   "id": "fdb5b144-793f-4151-92f0-20cd218b7ace",
   "metadata": {
    "id": "fdb5b144-793f-4151-92f0-20cd218b7ace"
   },
   "source": [
    "### Question 4\n",
    "\n",
    "Consider the non-cancelled bookings only.\n",
    "\n",
    "#### (a)\n",
    "\n",
    "Plot the guest counts by month. Show the values separately for each hotel. Also, ensure that the axis elements are appropriately ordered.\n",
    "\n",
    "#### (b)\n",
    "Plot the guest counts by day of the week. Show the values separately for each hotel. Also, ensure that the axis elements are appropriately ordered."
   ]
  },
  {
   "cell_type": "code",
   "execution_count": null,
   "id": "d6fe986a-5816-4fd9-aa86-df236af506dd",
   "metadata": {
    "id": "d6fe986a-5816-4fd9-aa86-df236af506dd"
   },
   "outputs": [],
   "source": [
    "# Your code here (a)"
   ]
  },
  {
   "cell_type": "code",
   "execution_count": null,
   "id": "5fe3fb43-3dda-4596-ae35-93353233f3d6",
   "metadata": {
    "id": "5fe3fb43-3dda-4596-ae35-93353233f3d6"
   },
   "outputs": [],
   "source": [
    "# Your code here (b)"
   ]
  },
  {
   "cell_type": "markdown",
   "id": "b7653785-6272-4401-b9d8-d055409219d6",
   "metadata": {
    "id": "b7653785-6272-4401-b9d8-d055409219d6"
   },
   "source": [
    "### Question 5\n",
    "\n",
    "Consider the non-cancelled bookings only.\n",
    "\n",
    "#### (a)\n",
    "Plot the distribution of stay duration (in number of days) of guests at each hotel."
   ]
  },
  {
   "cell_type": "code",
   "execution_count": null,
   "id": "ac49f98a-5940-481c-8e15-65a756bb5912",
   "metadata": {
    "id": "ac49f98a-5940-481c-8e15-65a756bb5912"
   },
   "outputs": [],
   "source": [
    "# Your code here (a)"
   ]
  },
  {
   "cell_type": "markdown",
   "id": "236b67db-16b5-4910-a3b8-614994ea5d82",
   "metadata": {
    "id": "236b67db-16b5-4910-a3b8-614994ea5d82"
   },
   "source": [
    "### Question 6\n",
    "\n",
    "#### (a), (b) & (c)\n",
    "Make three visualizations, showing some interesting insights from the data. \n",
    "\n",
    "The visualizations should be accompanied by a brief textual description highlighting your finding."
   ]
  },
  {
   "cell_type": "code",
   "execution_count": null,
   "id": "36f412ca-69a7-4be7-9084-c4e78fce6d42",
   "metadata": {
    "id": "36f412ca-69a7-4be7-9084-c4e78fce6d42"
   },
   "outputs": [],
   "source": [
    "# Your code here (a)"
   ]
  },
  {
   "cell_type": "code",
   "execution_count": null,
   "id": "7d0b8672-d3ea-4298-bde8-2fa0cdfac6b7",
   "metadata": {
    "id": "7d0b8672-d3ea-4298-bde8-2fa0cdfac6b7"
   },
   "outputs": [],
   "source": [
    "# Your code here (b)"
   ]
  },
  {
   "cell_type": "code",
   "execution_count": null,
   "id": "6f6a6674-be72-4f08-8b47-a4e20e1640b9",
   "metadata": {
    "id": "6f6a6674-be72-4f08-8b47-a4e20e1640b9"
   },
   "outputs": [],
   "source": [
    "# Your code here (c)"
   ]
  },
  {
   "cell_type": "markdown",
   "id": "18c895e4-ef80-4dd9-b066-6a041a19881e",
   "metadata": {
    "id": "18c895e4-ef80-4dd9-b066-6a041a19881e"
   },
   "source": [
    "## Part B - Pre-processing\n",
    "\n",
    "For this part, **you are required to document the reasoning behind all the data transformations you devise and the insights you gain from each question.** Create **markdown cells** to add your answers. \n",
    "\n",
    "### Task Description\n",
    "\n",
    "The task is to classify whether a booking will be cancelled or not. \n"
   ]
  },
  {
   "cell_type": "markdown",
   "id": "8f87198e-dc4d-4932-a88c-6e2d4f37fe95",
   "metadata": {
    "id": "8f87198e-dc4d-4932-a88c-6e2d4f37fe95"
   },
   "source": [
    "### Question 1\n",
    "**Feature Selection**\n",
    "\n",
    "#### (a)\n",
    "List the features which seem to contribute to data leakage. These will be the features which are related to the predicitve target, but would not be available at prediction time in a real-world setting. \n",
    "\n",
    "#### (b)\n",
    "Find out the percent of missing values of each column and visualize using [missingno](https://github.com/ResidentMario/missingno) . Which features have too many missing values? And which features have sufficiently low number of missing values, such that they can be safely imputed without significantly affecting the overall data distribution.\n",
    "\n",
    "#### (c)\n",
    "Visualize the correlations among the different input features.\n",
    "\n",
    "#### (d)\n",
    "Find out the correlation of each of the input features with the target attribute.\n",
    "\n",
    "#### (e)\n",
    "Using your answers to the previous parts, filter out the irrelevant features from the dataset.\n",
    "\n",
    "Remember to document your findings for each part."
   ]
  },
  {
   "cell_type": "code",
   "execution_count": null,
   "id": "afb75fec-a0db-4791-8093-4b99ecd4bd2e",
   "metadata": {
    "id": "afb75fec-a0db-4791-8093-4b99ecd4bd2e"
   },
   "outputs": [],
   "source": [
    "# Your code here (a)"
   ]
  },
  {
   "cell_type": "code",
   "execution_count": null,
   "id": "07025c75-af70-45c8-83d6-16d9e5d2654e",
   "metadata": {
    "id": "07025c75-af70-45c8-83d6-16d9e5d2654e"
   },
   "outputs": [],
   "source": [
    "# Your code here (b)"
   ]
  },
  {
   "cell_type": "code",
   "execution_count": null,
   "id": "82b96eef-3546-4e45-bc3f-f22390e20daf",
   "metadata": {
    "id": "82b96eef-3546-4e45-bc3f-f22390e20daf"
   },
   "outputs": [],
   "source": [
    "# Your code here (c)"
   ]
  },
  {
   "cell_type": "code",
   "execution_count": null,
   "id": "9f9dd6a9-9f6a-4e6e-91a8-856bfc101cd0",
   "metadata": {
    "id": "9f9dd6a9-9f6a-4e6e-91a8-856bfc101cd0"
   },
   "outputs": [],
   "source": [
    "# Your code here (d)"
   ]
  },
  {
   "cell_type": "code",
   "execution_count": null,
   "id": "bbdcaad3-d8c1-40b2-aa85-1d09a84c438e",
   "metadata": {
    "id": "bbdcaad3-d8c1-40b2-aa85-1d09a84c438e"
   },
   "outputs": [],
   "source": [
    "# Your code here (e)"
   ]
  },
  {
   "cell_type": "markdown",
   "id": "caaccc20-6ddb-465d-b516-88c96cf1cc53",
   "metadata": {
    "id": "caaccc20-6ddb-465d-b516-88c96cf1cc53"
   },
   "source": [
    "### Question 2\n",
    "\n",
    "For this question, use sklearn transformations. \n",
    "\n",
    "Develop appropriate encoding and scaling steps for the categorical and numerical columns in your dataset respectively. \n",
    "\n",
    "For this question, a single sklearn `Transformer` should be developed which can be applied for the entire dataset.\n",
    "If separate transformations need to be applied for different columns, then compose them into a single transformation using sklearn's `ColumnTransformer`.  "
   ]
  },
  {
   "cell_type": "code",
   "execution_count": null,
   "id": "aed15d49-1f13-4fb1-b2b7-5981e3e11b21",
   "metadata": {
    "id": "aed15d49-1f13-4fb1-b2b7-5981e3e11b21"
   },
   "outputs": [],
   "source": [
    "# Your code here"
   ]
  },
  {
   "cell_type": "markdown",
   "id": "8b48f316-cc91-41d5-b515-968b7d472481",
   "metadata": {
    "id": "8b48f316-cc91-41d5-b515-968b7d472481"
   },
   "source": [
    "## Part C - Modeling\n",
    "\n",
    "Now, you will be training different ML models to perform the required predictive task. Specifically, the following classification models will be trained:\n",
    "* kNN\n",
    "* Naive Bayes\n",
    "* Decision tree\n",
    "* [xgboost](https://xgboost.readthedocs.io/en/latest/python/python_api.html) "
   ]
  },
  {
   "cell_type": "markdown",
   "id": "72ee6620-88eb-491b-b26c-d8c653934485",
   "metadata": {
    "id": "72ee6620-88eb-491b-b26c-d8c653934485"
   },
   "source": [
    "### Question 1\n",
    "\n",
    "Split your data into training and testing data, with 85% of the dataset going to testing data. Set a suitable seed value so that the splits are reproducible"
   ]
  },
  {
   "cell_type": "code",
   "execution_count": null,
   "id": "9164d7ae-ad8f-4076-ba1a-708011c63351",
   "metadata": {
    "id": "9164d7ae-ad8f-4076-ba1a-708011c63351"
   },
   "outputs": [],
   "source": [
    "### Your code here"
   ]
  },
  {
   "cell_type": "markdown",
   "id": "e16c1000-354d-4957-92e3-989506a3c843",
   "metadata": {
    "id": "e16c1000-354d-4957-92e3-989506a3c843"
   },
   "source": [
    "### Question 2\n",
    "\n",
    "For each of the required models perform the following tasks:\n",
    "* Compose an sklearn pipeline with the developed pre-processing (developed in the previous part) and the model.\n",
    "* Train the model with default hyper-parameters and report its evlauation score on the test set.\n",
    "* Tune the hyper-parameters of the model with `GridSearchCV`.\n",
    "* Report the accuracy, balanced accuracy, F1, ROC AUC and average predicion scores of the best model on the test set."
   ]
  },
  {
   "cell_type": "markdown",
   "id": "6fb9b751-7cad-4a33-b221-b9da1cd96198",
   "metadata": {
    "id": "6fb9b751-7cad-4a33-b221-b9da1cd96198"
   },
   "source": [
    "#### kNN"
   ]
  },
  {
   "cell_type": "code",
   "execution_count": null,
   "id": "1ddbfafa-6b2d-4d91-84a8-a3d3bd9f4a92",
   "metadata": {
    "id": "1ddbfafa-6b2d-4d91-84a8-a3d3bd9f4a92"
   },
   "outputs": [],
   "source": [
    "### Your code here"
   ]
  },
  {
   "cell_type": "code",
   "execution_count": null,
   "id": "895ac82e-e1b6-473e-a6ff-6bc15c899ec0",
   "metadata": {
    "id": "895ac82e-e1b6-473e-a6ff-6bc15c899ec0"
   },
   "outputs": [],
   "source": [
    "### Your code here"
   ]
  },
  {
   "cell_type": "code",
   "execution_count": null,
   "id": "4cdffa66-5fd4-4657-ae5e-d07a149e826a",
   "metadata": {
    "id": "4cdffa66-5fd4-4657-ae5e-d07a149e826a"
   },
   "outputs": [],
   "source": [
    "### Your code here"
   ]
  },
  {
   "cell_type": "markdown",
   "id": "a26a4010-a0a5-4f01-8ea9-e3a5cf0ae0d3",
   "metadata": {
    "id": "a26a4010-a0a5-4f01-8ea9-e3a5cf0ae0d3"
   },
   "source": [
    "#### Naive Bayes"
   ]
  },
  {
   "cell_type": "code",
   "execution_count": null,
   "id": "8f2ab9cb-ef63-4da9-9e91-df9efca34840",
   "metadata": {
    "id": "8f2ab9cb-ef63-4da9-9e91-df9efca34840"
   },
   "outputs": [],
   "source": [
    "### Your code here"
   ]
  },
  {
   "cell_type": "code",
   "execution_count": null,
   "id": "717c7f28-9f05-44ea-a268-fc3424c6d803",
   "metadata": {
    "id": "717c7f28-9f05-44ea-a268-fc3424c6d803"
   },
   "outputs": [],
   "source": [
    "### Your code here"
   ]
  },
  {
   "cell_type": "code",
   "execution_count": null,
   "id": "e32bc032-b188-451d-80d1-09a4d08bf1d2",
   "metadata": {
    "id": "e32bc032-b188-451d-80d1-09a4d08bf1d2"
   },
   "outputs": [],
   "source": [
    "### Your code here"
   ]
  },
  {
   "cell_type": "markdown",
   "id": "23927669-00b3-46db-9806-279b746835c9",
   "metadata": {
    "id": "23927669-00b3-46db-9806-279b746835c9"
   },
   "source": [
    "#### Decision Tree"
   ]
  },
  {
   "cell_type": "code",
   "execution_count": null,
   "id": "803385fb-3a6a-4013-925c-f7fabb8e3a69",
   "metadata": {
    "id": "803385fb-3a6a-4013-925c-f7fabb8e3a69"
   },
   "outputs": [],
   "source": [
    "### Your code here"
   ]
  },
  {
   "cell_type": "code",
   "execution_count": null,
   "id": "ed2dc1c8-d665-4f45-b67c-44cb9439d6e7",
   "metadata": {
    "id": "ed2dc1c8-d665-4f45-b67c-44cb9439d6e7"
   },
   "outputs": [],
   "source": [
    "### Your code here"
   ]
  },
  {
   "cell_type": "code",
   "execution_count": null,
   "id": "38d22af6-028b-413d-859c-881947d5b998",
   "metadata": {
    "id": "38d22af6-028b-413d-859c-881947d5b998"
   },
   "outputs": [],
   "source": [
    "### Your code here"
   ]
  },
  {
   "cell_type": "markdown",
   "id": "a5a0e7d0-aaea-4077-aa24-8c2044b2abbe",
   "metadata": {
    "id": "a5a0e7d0-aaea-4077-aa24-8c2044b2abbe"
   },
   "source": [
    "#### xgboost"
   ]
  },
  {
   "cell_type": "code",
   "execution_count": null,
   "id": "af974c55-3f0d-4286-b5d3-d97c5089d9a0",
   "metadata": {
    "id": "af974c55-3f0d-4286-b5d3-d97c5089d9a0"
   },
   "outputs": [],
   "source": [
    "### Your code here"
   ]
  },
  {
   "cell_type": "code",
   "execution_count": null,
   "id": "62ca2a96-3f5b-4ff0-a48d-b6a4cb00606f",
   "metadata": {
    "id": "62ca2a96-3f5b-4ff0-a48d-b6a4cb00606f"
   },
   "outputs": [],
   "source": [
    "### Your code here"
   ]
  },
  {
   "cell_type": "code",
   "execution_count": null,
   "id": "b52d6201-5e23-4715-9d3b-fca9b3497587",
   "metadata": {
    "id": "b52d6201-5e23-4715-9d3b-fca9b3497587"
   },
   "outputs": [],
   "source": [
    "### Your code here"
   ]
  },
  {
   "cell_type": "markdown",
   "id": "bea5453e-7081-4778-8a2e-2e5561c61d07",
   "metadata": {
    "id": "bea5453e-7081-4778-8a2e-2e5561c61d07"
   },
   "source": [
    "### Question 3\n",
    "\n",
    "#### (a)\n",
    "Plot a bar chart showing the results of the different models (the tuned ones). Show the following metrics:\n",
    "* Accuracy\n",
    "* Balanced accuracy\n",
    "* F1 score\n",
    "* ROC AUC \n",
    "* Average precision\n",
    "\n",
    "#### (b)\n",
    "Describe your results for different models and your performance in comparison to the random selection baseline.\n",
    "\n",
    "#### (c)\n",
    "Which of the above is the most suitable metric for evaluation in this case? Justify your answer. Now with that metric, select which model performed the best? This model is now your best overall model."
   ]
  },
  {
   "cell_type": "code",
   "execution_count": null,
   "id": "cc6472d1-905b-474b-ae85-24f1eede26d7",
   "metadata": {
    "id": "cc6472d1-905b-474b-ae85-24f1eede26d7"
   },
   "outputs": [],
   "source": [
    "### Your code here (a)"
   ]
  },
  {
   "cell_type": "markdown",
   "id": "ab9998ba-c925-4863-b7c9-919f919b1db8",
   "metadata": {
    "id": "ab9998ba-c925-4863-b7c9-919f919b1db8"
   },
   "source": [
    "Your answer to (b) here"
   ]
  },
  {
   "cell_type": "markdown",
   "id": "68e9f3d9-5094-475e-80c2-74dd606a48cb",
   "metadata": {
    "id": "68e9f3d9-5094-475e-80c2-74dd606a48cb"
   },
   "source": [
    "Your answer to (c) here"
   ]
  },
  {
   "cell_type": "markdown",
   "id": "52b1df26-0bf9-4c43-8250-031f57189ff7",
   "metadata": {
    "id": "52b1df26-0bf9-4c43-8250-031f57189ff7"
   },
   "source": [
    "### Question 4\n",
    "Using your best overall model, plot the following:\n",
    "\n",
    "#### (a)\n",
    "Confusion Matrix (appropriate labels should be shown)\n",
    "\n",
    "#### (b)\n",
    "Precision Recall curve\n",
    "\n",
    "#### (c)\n",
    "ROC curve (Also show ROC for random classifier on the same plot)"
   ]
  },
  {
   "cell_type": "code",
   "execution_count": null,
   "id": "100cc6dd-f106-47ce-9912-cee28a1a3902",
   "metadata": {
    "id": "100cc6dd-f106-47ce-9912-cee28a1a3902"
   },
   "outputs": [],
   "source": []
  }
 ],
 "metadata": {
  "colab": {
   "provenance": []
  },
  "kernelspec": {
   "display_name": "Python 3 (ipykernel)",
   "language": "python",
   "name": "python3"
  },
  "language_info": {
   "codemirror_mode": {
    "name": "ipython",
    "version": 3
   },
   "file_extension": ".py",
   "mimetype": "text/x-python",
   "name": "python",
   "nbconvert_exporter": "python",
   "pygments_lexer": "ipython3",
   "version": "3.9.15"
  }
 },
 "nbformat": 4,
 "nbformat_minor": 5
}
