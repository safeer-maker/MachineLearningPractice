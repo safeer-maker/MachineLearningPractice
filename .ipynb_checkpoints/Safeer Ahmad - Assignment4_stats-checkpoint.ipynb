{
 "cells": [
  {
   "cell_type": "markdown",
   "metadata": {
    "id": "PGUtSoneccDQ"
   },
   "source": [
    "# Instruction Guidelines\n",
    "\n",
    "\n",
    "*   The submission filename should be set as follows:\n",
    "\"FIRSTNAME_MSDS22000_A4_Part_1.ipynb\"\n",
    "*   Email at mscs21005@itu.edu.pk if there are any questions. \n",
    "*   The submissions will only be accepted till Wednesday(4th of October).\n",
    "*   Kindly write multiline comments explaining your approach to writing the code\n",
    "\n",
    "\n",
    "\n"
   ]
  },
  {
   "cell_type": "markdown",
   "metadata": {
    "id": "ZXLDB7zvOZ9W"
   },
   "source": [
    "#**Data Loader**"
   ]
  },
  {
   "cell_type": "markdown",
   "metadata": {
    "id": "aKukqRxlPgZZ"
   },
   "source": [
    "\"\"\"\"\n",
    "Mounting the google drive in order to access the dataset from the drive, otherwise upload the dataset file here in the left pan\n",
    "\"\"\""
   ]
  },
  {
   "cell_type": "code",
   "execution_count": 1,
   "metadata": {
    "colab": {
     "base_uri": "https://localhost:8080/"
    },
    "id": "3iMX2nV6OYVA",
    "outputId": "1d1f1f79-bd60-4193-bcc4-dfbab7439d1b"
   },
   "outputs": [
    {
     "name": "stdout",
     "output_type": "stream",
     "text": [
      "Mounted at /content/gdrive\n"
     ]
    }
   ],
   "source": [
    "from google.colab import drive\n",
    "drive.mount('/content/gdrive')"
   ]
  },
  {
   "cell_type": "markdown",
   "metadata": {
    "id": "yXDoaeY_P993"
   },
   "source": [
    "*   Unzip the dataset to the destination directory\n",
    "*   Syntax: !unzip -u path_to_file.zip -d path_to_directory\n",
    "\n",
    "-u part controls extraction only if new/necessary. It is important if suddenly you lose connection or hardware switches off.\n",
    "\n",
    "-d creates the directory and extracted files are stored there.\n",
    "\n",
    "**Note: You can download the dataset from the following link:**\n",
    "https://drive.google.com/file/d/1IJcgZFLkdboYhL7uwwuYGWfhBh03snI8/view\n",
    "\n",
    "If anyone found difficulty related to downloading the dataset, then email me at mscs21005@itu.edu.pk.\n",
    "\n"
   ]
  },
  {
   "cell_type": "code",
   "execution_count": 2,
   "metadata": {
    "colab": {
     "base_uri": "https://localhost:8080/"
    },
    "id": "0xMSOikvOZSF",
    "outputId": "6b8df8b9-cc9d-4819-c988-a3aea51302cc"
   },
   "outputs": [
    {
     "name": "stdout",
     "output_type": "stream",
     "text": [
      "Archive:  /content/gdrive/MyDrive/stats_assignment3_dataset/dataset.zip\n",
      "  inflating: /content/dataset/Readme.txt  \n",
      "  inflating: /content/dataset/data/Readme.txt  \n",
      "  inflating: /content/dataset/data/subject01.centerlight  \n",
      "  inflating: /content/dataset/data/subject01.glasses  \n",
      "  inflating: /content/dataset/data/subject01.happy  \n",
      "  inflating: /content/dataset/data/subject01.leftlight  \n",
      "  inflating: /content/dataset/data/subject01.noglasses  \n",
      "  inflating: /content/dataset/data/subject01.normal  \n",
      "  inflating: /content/dataset/data/subject01.rightlight  \n",
      "  inflating: /content/dataset/data/subject01.sad  \n",
      "  inflating: /content/dataset/data/subject01.sleepy  \n",
      "  inflating: /content/dataset/data/subject01.surprised  \n",
      "  inflating: /content/dataset/data/subject01.wink  \n",
      "  inflating: /content/dataset/data/subject02.centerlight  \n",
      "  inflating: /content/dataset/data/subject02.glasses  \n",
      "  inflating: /content/dataset/data/subject02.happy  \n",
      "  inflating: /content/dataset/data/subject02.leftlight  \n",
      "  inflating: /content/dataset/data/subject02.noglasses  \n",
      "  inflating: /content/dataset/data/subject02.normal  \n",
      "  inflating: /content/dataset/data/subject02.rightlight  \n",
      "  inflating: /content/dataset/data/subject02.sad  \n",
      "  inflating: /content/dataset/data/subject02.sleepy  \n",
      "  inflating: /content/dataset/data/subject02.surprised  \n",
      "  inflating: /content/dataset/data/subject02.wink  \n",
      "  inflating: /content/dataset/data/subject03.centerlight  \n",
      "  inflating: /content/dataset/data/subject03.glasses  \n",
      "  inflating: /content/dataset/data/subject03.happy  \n",
      "  inflating: /content/dataset/data/subject03.leftlight  \n",
      "  inflating: /content/dataset/data/subject03.noglasses  \n",
      "  inflating: /content/dataset/data/subject03.normal  \n",
      "  inflating: /content/dataset/data/subject03.rightlight  \n",
      "  inflating: /content/dataset/data/subject03.sad  \n",
      "  inflating: /content/dataset/data/subject03.sleepy  \n",
      "  inflating: /content/dataset/data/subject03.surprised  \n",
      "  inflating: /content/dataset/data/subject03.wink  \n",
      "  inflating: /content/dataset/data/subject04.centerlight  \n",
      "  inflating: /content/dataset/data/subject04.glasses  \n",
      "  inflating: /content/dataset/data/subject04.happy  \n",
      "  inflating: /content/dataset/data/subject04.leftlight  \n",
      "  inflating: /content/dataset/data/subject04.noglasses  \n",
      "  inflating: /content/dataset/data/subject04.normal  \n",
      "  inflating: /content/dataset/data/subject04.rightlight  \n",
      "  inflating: /content/dataset/data/subject04.sad  \n",
      "  inflating: /content/dataset/data/subject04.sleepy  \n",
      "  inflating: /content/dataset/data/subject04.surprised  \n",
      "  inflating: /content/dataset/data/subject04.wink  \n",
      "  inflating: /content/dataset/data/subject05.centerlight  \n",
      "  inflating: /content/dataset/data/subject05.glasses  \n",
      "  inflating: /content/dataset/data/subject05.happy  \n",
      "  inflating: /content/dataset/data/subject05.leftlight  \n",
      "  inflating: /content/dataset/data/subject05.noglasses  \n",
      "  inflating: /content/dataset/data/subject05.normal  \n",
      "  inflating: /content/dataset/data/subject05.rightlight  \n",
      "  inflating: /content/dataset/data/subject05.sad  \n",
      "  inflating: /content/dataset/data/subject05.sleepy  \n",
      "  inflating: /content/dataset/data/subject05.surprised  \n",
      "  inflating: /content/dataset/data/subject05.wink  \n",
      "  inflating: /content/dataset/data/subject06.centerlight  \n",
      "  inflating: /content/dataset/data/subject06.glasses  \n",
      "  inflating: /content/dataset/data/subject06.happy  \n",
      "  inflating: /content/dataset/data/subject06.leftlight  \n",
      "  inflating: /content/dataset/data/subject06.noglasses  \n",
      "  inflating: /content/dataset/data/subject06.normal  \n",
      "  inflating: /content/dataset/data/subject06.rightlight  \n",
      "  inflating: /content/dataset/data/subject06.sad  \n",
      "  inflating: /content/dataset/data/subject06.sleepy  \n",
      "  inflating: /content/dataset/data/subject06.surprised  \n",
      "  inflating: /content/dataset/data/subject06.wink  \n",
      "  inflating: /content/dataset/data/subject07.centerlight  \n",
      "  inflating: /content/dataset/data/subject07.glasses  \n",
      "  inflating: /content/dataset/data/subject07.happy  \n",
      "  inflating: /content/dataset/data/subject07.leftlight  \n",
      "  inflating: /content/dataset/data/subject07.noglasses  \n",
      "  inflating: /content/dataset/data/subject07.normal  \n",
      "  inflating: /content/dataset/data/subject07.rightlight  \n",
      "  inflating: /content/dataset/data/subject07.sad  \n",
      "  inflating: /content/dataset/data/subject07.sleepy  \n",
      "  inflating: /content/dataset/data/subject07.surprised  \n",
      "  inflating: /content/dataset/data/subject07.wink  \n",
      "  inflating: /content/dataset/data/subject08.centerlight  \n",
      "  inflating: /content/dataset/data/subject08.glasses  \n",
      "  inflating: /content/dataset/data/subject08.happy  \n",
      "  inflating: /content/dataset/data/subject08.leftlight  \n",
      "  inflating: /content/dataset/data/subject08.noglasses  \n",
      "  inflating: /content/dataset/data/subject08.normal  \n",
      "  inflating: /content/dataset/data/subject08.rightlight  \n",
      "  inflating: /content/dataset/data/subject08.sad  \n",
      "  inflating: /content/dataset/data/subject08.sleepy  \n",
      "  inflating: /content/dataset/data/subject08.surprised  \n",
      "  inflating: /content/dataset/data/subject08.wink  \n",
      "  inflating: /content/dataset/data/subject09.centerlight  \n",
      "  inflating: /content/dataset/data/subject09.glasses  \n",
      "  inflating: /content/dataset/data/subject09.happy  \n",
      "  inflating: /content/dataset/data/subject09.leftlight  \n",
      "  inflating: /content/dataset/data/subject09.noglasses  \n",
      "  inflating: /content/dataset/data/subject09.normal  \n",
      "  inflating: /content/dataset/data/subject09.rightlight  \n",
      "  inflating: /content/dataset/data/subject09.sad  \n",
      "  inflating: /content/dataset/data/subject09.sleepy  \n",
      "  inflating: /content/dataset/data/subject09.surprised  \n",
      "  inflating: /content/dataset/data/subject09.wink  \n",
      "  inflating: /content/dataset/data/subject10.centerlight  \n",
      "  inflating: /content/dataset/data/subject10.glasses  \n",
      "  inflating: /content/dataset/data/subject10.happy  \n",
      "  inflating: /content/dataset/data/subject10.leftlight  \n",
      "  inflating: /content/dataset/data/subject10.noglasses  \n",
      "  inflating: /content/dataset/data/subject10.normal  \n",
      "  inflating: /content/dataset/data/subject10.rightlight  \n",
      "  inflating: /content/dataset/data/subject10.sad  \n",
      "  inflating: /content/dataset/data/subject10.sleepy  \n",
      "  inflating: /content/dataset/data/subject10.surprised  \n",
      "  inflating: /content/dataset/data/subject10.wink  \n",
      "  inflating: /content/dataset/data/subject11.centerlight  \n",
      "  inflating: /content/dataset/data/subject11.glasses  \n",
      "  inflating: /content/dataset/data/subject11.happy  \n",
      "  inflating: /content/dataset/data/subject11.leftlight  \n",
      "  inflating: /content/dataset/data/subject11.noglasses  \n",
      "  inflating: /content/dataset/data/subject11.normal  \n",
      "  inflating: /content/dataset/data/subject11.rightlight  \n",
      "  inflating: /content/dataset/data/subject11.sad  \n",
      "  inflating: /content/dataset/data/subject11.sleepy  \n",
      "  inflating: /content/dataset/data/subject11.surprised  \n",
      "  inflating: /content/dataset/data/subject11.wink  \n",
      "  inflating: /content/dataset/data/subject12.centerlight  \n",
      "  inflating: /content/dataset/data/subject12.glasses  \n",
      "  inflating: /content/dataset/data/subject12.happy  \n",
      "  inflating: /content/dataset/data/subject12.leftlight  \n",
      "  inflating: /content/dataset/data/subject12.noglasses  \n",
      "  inflating: /content/dataset/data/subject12.normal  \n",
      "  inflating: /content/dataset/data/subject12.rightlight  \n",
      "  inflating: /content/dataset/data/subject12.sad  \n",
      "  inflating: /content/dataset/data/subject12.sleepy  \n",
      "  inflating: /content/dataset/data/subject12.surprised  \n",
      "  inflating: /content/dataset/data/subject12.wink  \n",
      "  inflating: /content/dataset/data/subject13.centerlight  \n",
      "  inflating: /content/dataset/data/subject13.glasses  \n",
      "  inflating: /content/dataset/data/subject13.happy  \n",
      "  inflating: /content/dataset/data/subject13.leftlight  \n",
      "  inflating: /content/dataset/data/subject13.noglasses  \n",
      "  inflating: /content/dataset/data/subject13.normal  \n",
      "  inflating: /content/dataset/data/subject13.rightlight  \n",
      "  inflating: /content/dataset/data/subject13.sad  \n",
      "  inflating: /content/dataset/data/subject13.sleepy  \n",
      "  inflating: /content/dataset/data/subject13.surprised  \n",
      "  inflating: /content/dataset/data/subject13.wink  \n",
      "  inflating: /content/dataset/data/subject14.centerlight  \n",
      "  inflating: /content/dataset/data/subject14.glasses  \n",
      "  inflating: /content/dataset/data/subject14.happy  \n",
      "  inflating: /content/dataset/data/subject14.leftlight  \n",
      "  inflating: /content/dataset/data/subject14.noglasses  \n",
      "  inflating: /content/dataset/data/subject14.normal  \n",
      "  inflating: /content/dataset/data/subject14.rightlight  \n",
      "  inflating: /content/dataset/data/subject14.sad  \n",
      "  inflating: /content/dataset/data/subject14.sleepy  \n",
      "  inflating: /content/dataset/data/subject14.surprised  \n",
      "  inflating: /content/dataset/data/subject14.wink  \n",
      "  inflating: /content/dataset/data/subject15.centerlight  \n",
      "  inflating: /content/dataset/data/subject15.glasses  \n",
      "  inflating: /content/dataset/data/subject15.happy  \n",
      "  inflating: /content/dataset/data/subject15.leftlight  \n",
      "  inflating: /content/dataset/data/subject15.noglasses  \n",
      "  inflating: /content/dataset/data/subject15.normal  \n",
      "  inflating: /content/dataset/data/subject15.rightlight  \n",
      "  inflating: /content/dataset/data/subject15.sad  \n",
      "  inflating: /content/dataset/data/subject15.sleepy  \n",
      "  inflating: /content/dataset/data/subject15.surprised  \n",
      "  inflating: /content/dataset/data/subject15.wink  \n",
      "  inflating: /content/dataset/subject01.centerlight  \n",
      "  inflating: /content/dataset/subject01.glasses  \n",
      "  inflating: /content/dataset/subject01.happy  \n",
      "  inflating: /content/dataset/subject01.leftlight  \n",
      "  inflating: /content/dataset/subject01.noglasses  \n",
      "  inflating: /content/dataset/subject01.normal  \n",
      "  inflating: /content/dataset/subject01.rightlight  \n",
      "  inflating: /content/dataset/subject01.sad  \n",
      "  inflating: /content/dataset/subject01.sleepy  \n",
      "  inflating: /content/dataset/subject01.surprised  \n",
      "  inflating: /content/dataset/subject01.wink  \n",
      "  inflating: /content/dataset/subject02.centerlight  \n",
      "  inflating: /content/dataset/subject02.glasses  \n",
      "  inflating: /content/dataset/subject02.happy  \n",
      "  inflating: /content/dataset/subject02.leftlight  \n",
      "  inflating: /content/dataset/subject02.noglasses  \n",
      "  inflating: /content/dataset/subject02.normal  \n",
      "  inflating: /content/dataset/subject02.rightlight  \n",
      "  inflating: /content/dataset/subject02.sad  \n",
      "  inflating: /content/dataset/subject02.sleepy  \n",
      "  inflating: /content/dataset/subject02.surprised  \n",
      "  inflating: /content/dataset/subject02.wink  \n",
      "  inflating: /content/dataset/subject03.centerlight  \n",
      "  inflating: /content/dataset/subject03.glasses  \n",
      "  inflating: /content/dataset/subject03.happy  \n",
      "  inflating: /content/dataset/subject03.leftlight  \n",
      "  inflating: /content/dataset/subject03.noglasses  \n",
      "  inflating: /content/dataset/subject03.normal  \n",
      "  inflating: /content/dataset/subject03.rightlight  \n",
      "  inflating: /content/dataset/subject03.sad  \n",
      "  inflating: /content/dataset/subject03.sleepy  \n",
      "  inflating: /content/dataset/subject03.surprised  \n",
      "  inflating: /content/dataset/subject03.wink  \n",
      "  inflating: /content/dataset/subject04.centerlight  \n",
      "  inflating: /content/dataset/subject04.glasses  \n",
      "  inflating: /content/dataset/subject04.happy  \n",
      "  inflating: /content/dataset/subject04.leftlight  \n",
      "  inflating: /content/dataset/subject04.noglasses  \n",
      "  inflating: /content/dataset/subject04.normal  \n",
      "  inflating: /content/dataset/subject04.rightlight  \n",
      "  inflating: /content/dataset/subject04.sad  \n",
      "  inflating: /content/dataset/subject04.sleepy  \n",
      "  inflating: /content/dataset/subject04.surprised  \n",
      "  inflating: /content/dataset/subject04.wink  \n",
      "  inflating: /content/dataset/subject05.centerlight  \n",
      "  inflating: /content/dataset/subject05.glasses  \n",
      "  inflating: /content/dataset/subject05.happy  \n",
      "  inflating: /content/dataset/subject05.leftlight  \n",
      "  inflating: /content/dataset/subject05.noglasses  \n",
      "  inflating: /content/dataset/subject05.normal  \n",
      "  inflating: /content/dataset/subject05.rightlight  \n",
      "  inflating: /content/dataset/subject05.sad  \n",
      "  inflating: /content/dataset/subject05.sleepy  \n",
      "  inflating: /content/dataset/subject05.surprised  \n",
      "  inflating: /content/dataset/subject05.wink  \n",
      "  inflating: /content/dataset/subject06.centerlight  \n",
      "  inflating: /content/dataset/subject06.glasses  \n",
      "  inflating: /content/dataset/subject06.happy  \n",
      "  inflating: /content/dataset/subject06.leftlight  \n",
      "  inflating: /content/dataset/subject06.noglasses  \n",
      "  inflating: /content/dataset/subject06.normal  \n",
      "  inflating: /content/dataset/subject06.rightlight  \n",
      "  inflating: /content/dataset/subject06.sad  \n",
      "  inflating: /content/dataset/subject06.sleepy  \n",
      "  inflating: /content/dataset/subject06.surprised  \n",
      "  inflating: /content/dataset/subject06.wink  \n",
      "  inflating: /content/dataset/subject07.centerlight  \n",
      "  inflating: /content/dataset/subject07.glasses  \n",
      "  inflating: /content/dataset/subject07.happy  \n",
      "  inflating: /content/dataset/subject07.leftlight  \n",
      "  inflating: /content/dataset/subject07.noglasses  \n",
      "  inflating: /content/dataset/subject07.normal  \n",
      "  inflating: /content/dataset/subject07.rightlight  \n",
      "  inflating: /content/dataset/subject07.sad  \n",
      "  inflating: /content/dataset/subject07.sleepy  \n",
      "  inflating: /content/dataset/subject07.surprised  \n",
      "  inflating: /content/dataset/subject07.wink  \n",
      "  inflating: /content/dataset/subject08.centerlight  \n",
      "  inflating: /content/dataset/subject08.glasses  \n",
      "  inflating: /content/dataset/subject08.happy  \n",
      "  inflating: /content/dataset/subject08.leftlight  \n",
      "  inflating: /content/dataset/subject08.noglasses  \n",
      "  inflating: /content/dataset/subject08.normal  \n",
      "  inflating: /content/dataset/subject08.rightlight  \n",
      "  inflating: /content/dataset/subject08.sad  \n",
      "  inflating: /content/dataset/subject08.sleepy  \n",
      "  inflating: /content/dataset/subject08.surprised  \n",
      "  inflating: /content/dataset/subject08.wink  \n",
      "  inflating: /content/dataset/subject09.centerlight  \n",
      "  inflating: /content/dataset/subject09.glasses  \n",
      "  inflating: /content/dataset/subject09.happy  \n",
      "  inflating: /content/dataset/subject09.leftlight  \n",
      "  inflating: /content/dataset/subject09.noglasses  \n",
      "  inflating: /content/dataset/subject09.normal  \n",
      "  inflating: /content/dataset/subject09.rightlight  \n",
      "  inflating: /content/dataset/subject09.sad  \n",
      "  inflating: /content/dataset/subject09.sleepy  \n",
      "  inflating: /content/dataset/subject09.surprised  \n",
      "  inflating: /content/dataset/subject09.wink  \n",
      "  inflating: /content/dataset/subject10.centerlight  \n",
      "  inflating: /content/dataset/subject10.glasses  \n",
      "  inflating: /content/dataset/subject10.happy  \n",
      "  inflating: /content/dataset/subject10.leftlight  \n",
      "  inflating: /content/dataset/subject10.noglasses  \n",
      "  inflating: /content/dataset/subject10.normal  \n",
      "  inflating: /content/dataset/subject10.rightlight  \n",
      "  inflating: /content/dataset/subject10.sad  \n",
      "  inflating: /content/dataset/subject10.sleepy  \n",
      "  inflating: /content/dataset/subject10.surprised  \n",
      "  inflating: /content/dataset/subject10.wink  \n",
      "  inflating: /content/dataset/subject11.centerlight  \n",
      "  inflating: /content/dataset/subject11.glasses  \n",
      "  inflating: /content/dataset/subject11.happy  \n",
      "  inflating: /content/dataset/subject11.leftlight  \n",
      "  inflating: /content/dataset/subject11.noglasses  \n",
      "  inflating: /content/dataset/subject11.normal  \n",
      "  inflating: /content/dataset/subject11.rightlight  \n",
      "  inflating: /content/dataset/subject11.sad  \n",
      "  inflating: /content/dataset/subject11.sleepy  \n",
      "  inflating: /content/dataset/subject11.surprised  \n",
      "  inflating: /content/dataset/subject11.wink  \n",
      "  inflating: /content/dataset/subject12.centerlight  \n",
      "  inflating: /content/dataset/subject12.glasses  \n",
      "  inflating: /content/dataset/subject12.happy  \n",
      "  inflating: /content/dataset/subject12.leftlight  \n",
      "  inflating: /content/dataset/subject12.noglasses  \n",
      "  inflating: /content/dataset/subject12.normal  \n",
      "  inflating: /content/dataset/subject12.rightlight  \n",
      "  inflating: /content/dataset/subject12.sad  \n",
      "  inflating: /content/dataset/subject12.sleepy  \n",
      "  inflating: /content/dataset/subject12.surprised  \n",
      "  inflating: /content/dataset/subject12.wink  \n",
      "  inflating: /content/dataset/subject13.centerlight  \n",
      "  inflating: /content/dataset/subject13.glasses  \n",
      "  inflating: /content/dataset/subject13.happy  \n",
      "  inflating: /content/dataset/subject13.leftlight  \n",
      "  inflating: /content/dataset/subject13.noglasses  \n",
      "  inflating: /content/dataset/subject13.normal  \n",
      "  inflating: /content/dataset/subject13.rightlight  \n",
      "  inflating: /content/dataset/subject13.sad  \n",
      "  inflating: /content/dataset/subject13.sleepy  \n",
      "  inflating: /content/dataset/subject13.surprised  \n",
      "  inflating: /content/dataset/subject13.wink  \n",
      "  inflating: /content/dataset/subject14.centerlight  \n",
      "  inflating: /content/dataset/subject14.glasses  \n",
      "  inflating: /content/dataset/subject14.happy  \n",
      "  inflating: /content/dataset/subject14.leftlight  \n",
      "  inflating: /content/dataset/subject14.noglasses  \n",
      "  inflating: /content/dataset/subject14.normal  \n",
      "  inflating: /content/dataset/subject14.rightlight  \n",
      "  inflating: /content/dataset/subject14.sad  \n",
      "  inflating: /content/dataset/subject14.sleepy  \n",
      "  inflating: /content/dataset/subject14.surprised  \n",
      "  inflating: /content/dataset/subject14.wink  \n",
      "  inflating: /content/dataset/subject15.centerlight  \n",
      "  inflating: /content/dataset/subject15.glasses  \n",
      "  inflating: /content/dataset/subject15.happy  \n",
      "  inflating: /content/dataset/subject15.leftlight  \n",
      "  inflating: /content/dataset/subject15.noglasses  \n",
      "  inflating: /content/dataset/subject15.normal  \n",
      "  inflating: /content/dataset/subject15.rightlight  \n",
      "  inflating: /content/dataset/subject15.sad  \n",
      "  inflating: /content/dataset/subject15.sleepy  \n",
      "  inflating: /content/dataset/subject15.surprised  \n",
      "  inflating: /content/dataset/subject15.wink  \n"
     ]
    }
   ],
   "source": [
    "!unzip -u \"/content/gdrive/MyDrive/stats_assignment3_dataset/dataset.zip\"  -d \"/content/dataset\""
   ]
  },
  {
   "cell_type": "markdown",
   "metadata": {
    "id": "BCkrdKduor8e"
   },
   "source": [
    "**Import the Libraries**"
   ]
  },
  {
   "cell_type": "code",
   "execution_count": 3,
   "metadata": {
    "id": "LYHioW2oorp2"
   },
   "outputs": [],
   "source": [
    "from numpy import asarray\n",
    "import matplotlib.pyplot as plt\n",
    "import os\n",
    "import numpy as np"
   ]
  },
  {
   "cell_type": "markdown",
   "metadata": {
    "id": "7-C23WIEVKds"
   },
   "source": [
    "**View a face to verify data accessibility.**\n",
    "\n",
    "    PIL is the Python Imaging Library which provides the python interpreter with image editing capabilities. The Image module provides a class with the same name which is used to represent a PIL image. \n",
    "\n",
    "PIL.Image.open() Opens and identifies the given image file.\n",
    "\n",
    "**Syntax:** PIL.Image.open(fp, mode=’r’)\n",
    "\n",
    "**Parameters:**\n",
    "\n",
    "\n",
    "*   fp – A filename (string), pathlib.Path object or a file object. The file object must implement read(), seek(), and tell() methods, and be opened in binary mode.\n",
    "*   mode – The mode. If given, this argument must be “r”.\n",
    "*   Returns type: An image object.\n"
   ]
  },
  {
   "cell_type": "code",
   "execution_count": 4,
   "metadata": {
    "colab": {
     "base_uri": "https://localhost:8080/",
     "height": 277
    },
    "id": "g1Jg4F6YN4P0",
    "outputId": "17bb44f9-3644-4972-824a-34804f5dc573"
   },
   "outputs": [
    {
     "name": "stdout",
     "output_type": "stream",
     "text": [
      "Original Image size (243, 320)\n"
     ]
    },
    {
     "data": {
      "image/png": "[encoded data removed]",
      "text/plain": [
       "<PIL.GifImagePlugin.GifImageFile image mode=L size=320x243 at 0x7FC45007D050>"
      ]
     },
     "execution_count": 4,
     "metadata": {},
     "output_type": "execute_result"
    }
   ],
   "source": [
    "from PIL import Image\n",
    "im=Image.open('/content/dataset/subject01.centerlight')\n",
    "print(\"Original Image size\", asarray(im).shape)\n",
    "im"
   ]
  },
  {
   "cell_type": "markdown",
   "metadata": {
    "id": "O0ltQw5xm4im"
   },
   "source": [
    " **Input Parameters:** filename : type str, required size =tuple having height and width of type int\n",
    "\n",
    " **Function:** In this function, we resize the image object to the specified size. At the last image object is converted to numpy array\n",
    "\n",
    " **Output:** Normalized array"
   ]
  },
  {
   "cell_type": "code",
   "execution_count": 5,
   "metadata": {
    "id": "DL4LycxVmOeh"
   },
   "outputs": [],
   "source": [
    "def resize_image(filename, required_size=(160, 160)):\n",
    "    image = Image.open(filename)\n",
    "    image = image.resize(required_size)\n",
    "    face_array = asarray(image)\n",
    "    \n",
    "    return face_array\n"
   ]
  },
  {
   "cell_type": "markdown",
   "metadata": {
    "id": "l-j5o6zJpET6"
   },
   "source": [
    "**Plot the Normalized Image**"
   ]
  },
  {
   "cell_type": "code",
   "execution_count": 6,
   "metadata": {
    "colab": {
     "base_uri": "https://localhost:8080/",
     "height": 283
    },
    "id": "ABE8wknmpJhR",
    "outputId": "f4b0b45a-1119-4094-ec95-7efc11c47337"
   },
   "outputs": [
    {
     "name": "stdout",
     "output_type": "stream",
     "text": [
      "Resized image size: (160, 250)\n"
     ]
    },
    {
     "data": {
      "image/png": "[encoded data removed]",
      "text/plain": [
       "<Figure size 432x288 with 1 Axes>"
      ]
     },
     "metadata": {
      "needs_background": "light"
     },
     "output_type": "display_data"
    }
   ],
   "source": [
    "normalized_image = resize_image('/content/dataset/subject01.centerlight', required_size=(250, 160))\n",
    "print(\"Resized image size:\", normalized_image.shape)\n",
    "plt.imshow(normalized_image)\n",
    "plt.show()"
   ]
  },
  {
   "cell_type": "markdown",
   "metadata": {
    "id": "9asvSEKBuZ7G"
   },
   "source": [
    "**Input parameters**: subject : str, folder : str\n",
    "\n",
    "**Function:** \n",
    "\n",
    "    os.listdir() method in python is used to get the list of all files and directories in the specified directory. Then we check it the file belongs to the same subject then append the images in the list, if it belongs to some other object then don't append those images in the list.\n",
    "\n",
    "**Output:** List of numpy arrays"
   ]
  },
  {
   "cell_type": "code",
   "execution_count": 8,
   "metadata": {
    "id": "lhfW_cB-sATq"
   },
   "outputs": [],
   "source": [
    "def load_images(subject, folder = '/content/dataset/'):\n",
    "    images_list = []\n",
    "    for filename in os.listdir(folder):\n",
    "        if filename.split(\".\")[0] == 'subject' + subject:\n",
    "            path = folder + filename\n",
    "            norm_image = resize_image(path)\n",
    "            images_list.append(norm_image)\n",
    "    return images_list"
   ]
  },
  {
   "cell_type": "markdown",
   "metadata": {
    "id": "PKD4JJEF0xKl"
   },
   "source": [
    "**Input Parameters:** No_of_training_samples: int (max_limit:14)\n",
    "\n",
    "**Function:**  \n",
    "    \n",
    "    The Yale face dataset has 165 images for 15 different subjects. So each subject has 11 images. We divide the dataset into two splits: training and testing. no_of_training_samples variable will tell that how much samples of each subject will be selected for training purpose e.g. if no_of_training_samples=7, then 7 images from each subject will be appended in training data list. So, we have 7*15=105 images in training dataset, and 165-105=60 images in testing dataset\n",
    "\n",
    "**Output:**\n",
    "Training_images_array, training_labels_array, testing_images_array, testing_labels_array"
   ]
  },
  {
   "cell_type": "code",
   "execution_count": 9,
   "metadata": {
    "id": "_FMz1MXHs0OZ"
   },
   "outputs": [],
   "source": [
    "def load_dataset(no_of_training_samples):\n",
    "    subjects=[]\n",
    "    for i in range(1,16):\n",
    "      if i<10:\n",
    "        subjects.append(str(0)+str(i))\n",
    "      else:\n",
    "        subjects.append(str(i))\n",
    "\n",
    "    X_train, y_train, X_test, y_test = [], [], [], []\n",
    "    count = 0\n",
    "    \n",
    "    for subject in subjects:\n",
    "        faces = load_images(subject)\n",
    "        labels = [subject for _ in range(len(faces))]\n",
    "        print('>loaded %d examples for class: %s' % (len(faces), subject))\n",
    "        X_train.extend(faces[:no_of_training_samples])\n",
    "        y_train.extend(labels[:no_of_training_samples])\n",
    "        \n",
    "        X_test.extend(faces[no_of_training_samples:])\n",
    "        y_test.extend(labels[no_of_training_samples:])\n",
    "            \n",
    "    return asarray(X_train), asarray(y_train), asarray(X_test), asarray(y_test)"
   ]
  },
  {
   "cell_type": "code",
   "execution_count": 10,
   "metadata": {
    "colab": {
     "base_uri": "https://localhost:8080/"
    },
    "id": "6a-CA0X8tElT",
    "outputId": "f58a76d1-394a-4e9d-a34b-134ae0aa2bf1"
   },
   "outputs": [
    {
     "name": "stdout",
     "output_type": "stream",
     "text": [
      ">loaded 11 examples for class: 01\n",
      ">loaded 11 examples for class: 02\n",
      ">loaded 11 examples for class: 03\n",
      ">loaded 11 examples for class: 04\n",
      ">loaded 11 examples for class: 05\n",
      ">loaded 11 examples for class: 06\n",
      ">loaded 11 examples for class: 07\n",
      ">loaded 11 examples for class: 08\n",
      ">loaded 11 examples for class: 09\n",
      ">loaded 11 examples for class: 10\n",
      ">loaded 11 examples for class: 11\n",
      ">loaded 11 examples for class: 12\n",
      ">loaded 11 examples for class: 13\n",
      ">loaded 11 examples for class: 14\n",
      ">loaded 11 examples for class: 15\n",
      "(105, 160, 160) (105,)\n",
      "(60, 160, 160)\n"
     ]
    }
   ],
   "source": [
    "no_of_training_samples_from_each_subject=7\n",
    "trainX, trainy, testX, testy = load_dataset(no_of_training_samples_from_each_subject)\n",
    "print(trainX.shape, trainy.shape)\n",
    "print(testX.shape)"
   ]
  },
  {
   "cell_type": "markdown",
   "metadata": {
    "id": "QRaCcyE251sc"
   },
   "source": [
    "# Standardize the Dataset ( Do Yourself!)\n"
   ]
  },
  {
   "cell_type": "markdown",
   "metadata": {
    "id": "ChCLwb0euaEb"
   },
   "source": [
    "## Computing the Mean"
   ]
  },
  {
   "cell_type": "markdown",
   "metadata": {
    "id": "40mGcwyMs83b"
   },
   "source": [
    "**Input Parameters:** numpy array of training images\n",
    "\n",
    "**Function:** \n",
    "    Add all the numpy arrays of all the images, then divide it with the total number of images. You can also refer to lecture slides or [click on the link.](https://medium.com/analytics-vidhya/understanding-principle-component-analysis-pca-step-by-step-e7a4bb4031d9). Also plot the mean image. The formula is also given below for your reference:\n",
    "    \n",
    "![ass_1.PNG](data:image/png;base64,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)\n",
    "\n",
    "**Output:** \n",
    "Gives the flatten array of size Height*Width"
   ]
  },
  {
   "cell_type": "code",
   "execution_count": 11,
   "metadata": {
    "id": "3D5GudFB59gU"
   },
   "outputs": [],
   "source": [
    "def compute_mean(trainX):\n",
    "  \"\"\"\n",
    "  Do by yourself\n",
    "  \"\"\"\n",
    "  mean_face=\"\"\n",
    "  return mean_face"
   ]
  },
  {
   "cell_type": "code",
   "execution_count": 12,
   "metadata": {
    "id": "MB1TPnsktxXd"
   },
   "outputs": [],
   "source": [
    "mean_face= compute_mean(trainX)\n"
   ]
  },
  {
   "cell_type": "markdown",
   "metadata": {
    "id": "o-1EJCjNPaYc"
   },
   "source": [
    "## Computing the Standard Deviation"
   ]
  },
  {
   "cell_type": "markdown",
   "metadata": {
    "id": "ZhVN_FqXO8AU"
   },
   "source": [
    "**Input Parameters:** numpy array of training images\n",
    "\n",
    "**Function:** \n",
    "    Compute the standard deviation of all the training images and store it in a variable, then divide it with the total number of images. You can also refer to lecture slides or [click on the link.](https://medium.com/analytics-vidhya/understanding-principle-component-analysis-pca-step-by-step-e7a4bb4031d9). \n",
    "    \n",
    "\n",
    "\n",
    "**Output:** \n",
    "std: Float"
   ]
  },
  {
   "cell_type": "code",
   "execution_count": 17,
   "metadata": {
    "id": "n7vpa3VeIHPG"
   },
   "outputs": [],
   "source": [
    "def compute_std(trainX):\n",
    "  \"\"\"\n",
    "  Do by youself\n",
    "  \n",
    "  \"\"\"\n",
    "  std=\"\"\n",
    "  return std"
   ]
  },
  {
   "cell_type": "code",
   "execution_count": 18,
   "metadata": {
    "id": "AJDIbfS3Mjgy"
   },
   "outputs": [],
   "source": [
    "std=compute_std(trainX)"
   ]
  },
  {
   "cell_type": "markdown",
   "metadata": {
    "id": "DhuKrYKb3o7e"
   },
   "source": [
    "## Standardize"
   ]
  },
  {
   "cell_type": "markdown",
   "metadata": {
    "id": "spaVz0oH1uLO"
   },
   "source": [
    "**Input parameters:** trainX: numpy array, mean_face: numpy array, std: float\n",
    "\n",
    "**Function:** We subtract the training numpy array of training images from mean face and then divide it from standard deviation. You can took help from lecture slides or [click on the link.](https://medium.com/analytics-vidhya/understanding-principle-component-analysis-pca-step-by-step-e7a4bb4031d9). numpy.subtract() function is used when we want to compute the difference of two arrays [helping Material related to numpy.subtract()](https://www.geeksforgeeks.org/numpy-subtract-in-python/). numpy.std() returns the standard deviation, a measure of the spread of a distribution, of the array elements [helping material related to numpy.std()](https://numpy.org/doc/stable/reference/generated/numpy.std.html).\n",
    "\n",
    "**Output:** Returns the standardized numpy array"
   ]
  },
  {
   "cell_type": "code",
   "execution_count": 19,
   "metadata": {
    "id": "aWYLsZANq085"
   },
   "outputs": [],
   "source": [
    "def standardized_dataset(trainX, mean_face, std):\n",
    "  \"\"\"\n",
    "  Do by Yourself\n",
    "  \"\"\"\n",
    "  normalised_training_tensor=\"\"\n",
    "  return normalised_training_tensor"
   ]
  },
  {
   "cell_type": "code",
   "execution_count": 20,
   "metadata": {
    "id": "WY5iHBrNzUh9"
   },
   "outputs": [],
   "source": [
    "normalised_training_tensor =standardized_dataset(trainX, mean_face,std)"
   ]
  }
 ],
 "metadata": {
  "colab": {
   "collapsed_sections": [],
   "provenance": [],
   "toc_visible": true
  },
  "kernelspec": {
   "display_name": "Python 3 (ipykernel)",
   "language": "python",
   "name": "python3"
  },
  "language_info": {
   "codemirror_mode": {
    "name": "ipython",
    "version": 3
   },
   "file_extension": ".py",
   "mimetype": "text/x-python",
   "name": "python",
   "nbconvert_exporter": "python",
   "pygments_lexer": "ipython3",
   "version": "3.9.12"
  }
 },
 "nbformat": 4,
 "nbformat_minor": 1
}
