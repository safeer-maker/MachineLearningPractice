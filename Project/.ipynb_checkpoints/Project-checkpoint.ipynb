{
 "cells": [
  {
   "cell_type": "code",
   "execution_count": 1,
   "id": "d47743a5-f42f-4b9c-98c8-b9553c51ed7d",
   "metadata": {},
   "outputs": [
    {
     "name": "stdout",
     "output_type": "stream",
     "text": [
      " Volume in drive C has no label.\n",
      " Volume Serial Number is 8C2A-364F\n",
      "\n",
      " Directory of C:\\Users\\Safeer\\Documents\\MachineLearning\\Project\n",
      "\n",
      "10/22/2022  07:50 PM    <DIR>          .\n",
      "10/22/2022  07:40 PM    <DIR>          ..\n",
      "10/22/2022  07:50 PM    <DIR>          .ipynb_checkpoints\n",
      "10/22/2022  07:50 PM                72 Project.ipynb\n",
      "10/16/2022  12:01 AM            16,512 Sample_of_Dataset.xlsx\n",
      "               2 File(s)         16,584 bytes\n",
      "               3 Dir(s)  291,835,125,760 bytes free\n"
     ]
    }
   ],
   "source": [
    "import numpy an np\n",
    "import pandas ad pd\n",
    "import matplotlib.pyplot as plt\n"
   ]
  }
 ],
 "metadata": {
  "kernelspec": {
   "display_name": "Python 3 (ipykernel)",
   "language": "python",
   "name": "python3"
  },
  "language_info": {
   "codemirror_mode": {
    "name": "ipython",
    "version": 3
   },
   "file_extension": ".py",
   "mimetype": "text/x-python",
   "name": "python",
   "nbconvert_exporter": "python",
   "pygments_lexer": "ipython3",
   "version": "3.9.12"
  }
 },
 "nbformat": 4,
 "nbformat_minor": 5
}
