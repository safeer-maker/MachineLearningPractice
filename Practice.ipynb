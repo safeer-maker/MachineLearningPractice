{
 "cells": [
  {
   "cell_type": "code",
   "execution_count": null,
   "id": "55fe781f",
   "metadata": {},
   "outputs": [],
   "source": []
  },
  {
   "cell_type": "code",
   "execution_count": null,
   "id": "8974b85c",
   "metadata": {},
   "outputs": [],
   "source": []
  },
  {
   "cell_type": "markdown",
   "id": "b8bc5348",
   "metadata": {},
   "source": [
    "# import numpy as np \n",
    "\n",
    "seg =[[4,1],[1,1]]\n",
    "u = [1,0]\n",
    "X = [x,y]\n",
    "\n",
    "seg_det = round (np.linalg.det(seg))\n",
    "seg_det\n",
    "x-u"
   ]
  },
  {
   "cell_type": "code",
   "execution_count": null,
   "id": "7e45d2f7",
   "metadata": {},
   "outputs": [],
   "source": []
  },
  {
   "cell_type": "code",
   "execution_count": 20,
   "id": "55408ccd",
   "metadata": {},
   "outputs": [
    {
     "name": "stdout",
     "output_type": "stream",
     "text": [
      "{'a': 1, 'b': 2, 'c': 3}\n"
     ]
    }
   ],
   "source": [
    "keys =['a','b','c']\n",
    "values  = [1,2,3]\n",
    "dictt = dict ()\n",
    "for i in range(len(keys)):\n",
    "    dictt[keys[i]] = values[i]\n",
    "\n",
    "sorted(dictt.values())\n",
    "print (dictt)"
   ]
  },
  {
   "cell_type": "code",
   "execution_count": 13,
   "id": "6a566c3d",
   "metadata": {},
   "outputs": [
    {
     "name": "stdout",
     "output_type": "stream",
     "text": [
      "<class 'dict'>\n"
     ]
    }
   ],
   "source": [
    "my_dict = {}\n",
    "print (type(my_dict))"
   ]
  },
  {
   "cell_type": "code",
   "execution_count": 1,
   "id": "5c896131",
   "metadata": {},
   "outputs": [
    {
     "data": {
      "image/png": "[encoded data removed]",
      "text/plain": [
       "<Figure size 432x288 with 1 Axes>"
      ]
     },
     "metadata": {
      "needs_background": "light"
     },
     "output_type": "display_data"
    },
    {
     "data": {
      "image/png": "[encoded data removed]",
      "text/plain": [
       "<Figure size 432x288 with 1 Axes>"
      ]
     },
     "metadata": {
      "needs_background": "light"
     },
     "output_type": "display_data"
    }
   ],
   "source": [
    "import numpy as np\n",
    "import matplotlib.pyplot as plt\n",
    "p = np.array([0.25, 0.5, 0.25])\n",
    "x = np.array([0, 1, 4])\n",
    "F = np.cumsum(p)\n",
    "plt.stem(x,p,use_line_collection=True); plt.show()\n",
    "plt.step(x,F); plt.show()\n"
   ]
  },
  {
   "cell_type": "code",
   "execution_count": 4,
   "id": "58292a6a",
   "metadata": {},
   "outputs": [
    {
     "name": "stdout",
     "output_type": "stream",
     "text": [
      "data is available\n"
     ]
    }
   ],
   "source": [
    "#Ternary operation\n",
    "\n",
    "is_true = 1\n",
    "\n",
    "command = \"data is available\" if is_true else \"data lost\"\n",
    "\n",
    "print (command)"
   ]
  },
  {
   "cell_type": "code",
   "execution_count": 21,
   "id": "5168f2b7",
   "metadata": {},
   "outputs": [
    {
     "name": "stdout",
     "output_type": "stream",
     "text": [
      "key1 Safeer\n",
      "age 26\n",
      "work eng\n",
      "25 89\n"
     ]
    }
   ],
   "source": [
    "dictionary = {\n",
    "    \"key1\" : \"Safeer\",\n",
    "    \"age\"  : 26,\n",
    "    \"work\" : \"eng\",\n",
    "    25: 89\n",
    "}\n",
    "\n",
    "\n",
    "#print (dictionary[\"age\"])\n",
    "\n",
    "for key, value in dictionary.items():\n",
    "    print (key, value)"
   ]
  },
  {
   "cell_type": "code",
   "execution_count": 7,
   "id": "386e1a8f",
   "metadata": {},
   "outputs": [
    {
     "name": "stdout",
     "output_type": "stream",
     "text": [
      "10\n",
      "9\n",
      "8\n",
      "7\n",
      "6\n",
      "5\n",
      "4\n",
      "3\n",
      "2\n",
      "1\n"
     ]
    }
   ],
   "source": [
    "for _ in range (10,0 ,-1):\n",
    "    print (_)\n",
    "    \n"
   ]
  },
  {
   "cell_type": "code",
   "execution_count": 10,
   "id": "c99fba02",
   "metadata": {},
   "outputs": [
    {
     "name": "stdout",
     "output_type": "stream",
     "text": [
      "(0, 'hello')\n",
      "(1, 'my')\n",
      "(2, 'name')\n",
      "(3, 'is')\n",
      "(4, 'Safeer')\n"
     ]
    }
   ],
   "source": [
    "string = 'hello my name is Safeer'\n",
    "\n",
    "for i in enumerate (string.split(' ')):\n",
    "    print (i)"
   ]
  },
  {
   "cell_type": "code",
   "execution_count": 17,
   "id": "88acb7a0",
   "metadata": {},
   "outputs": [
    {
     "name": "stdout",
     "output_type": "stream",
     "text": [
      "0\n",
      "1\n",
      "2\n",
      "3\n",
      "4\n",
      "5\n",
      "6\n",
      "7\n",
      "8\n",
      "9\n",
      "10\n",
      "11\n",
      "12\n",
      "13\n",
      "14\n",
      "15\n",
      "16\n",
      "17\n",
      "18\n",
      "19\n",
      "20\n",
      "21\n",
      "22\n",
      "23\n",
      "24\n",
      "25\n",
      "26\n",
      "27\n",
      "28\n",
      "29\n",
      "30\n",
      "31\n",
      "32\n",
      "33\n",
      "34\n",
      "35\n",
      "36\n",
      "37\n",
      "38\n",
      "39\n",
      "I am done\n"
     ]
    }
   ],
   "source": [
    "i = 0\n",
    "while i < 50:\n",
    "    print(i)\n",
    "    i+=1\n",
    "    if (i == 40):\n",
    "        break\n",
    "else :\n",
    "    print (\"safeer\")\n",
    "    \n",
    "print ('I am done')"
   ]
  },
  {
   "cell_type": "code",
   "execution_count": 19,
   "id": "3ed83994",
   "metadata": {},
   "outputs": [],
   "source": [
    "lst = [1,2,3,4,5]\n",
    "\n",
    "i = 0;\n",
    "while i in lst:\n",
    "    print(i)"
   ]
  },
  {
   "cell_type": "code",
   "execution_count": 7,
   "id": "9411b238",
   "metadata": {},
   "outputs": [
    {
     "name": "stdout",
     "output_type": "stream",
     "text": [
      "   *   \n",
      "  ***  \n",
      " ***** \n",
      "*******\n",
      "   *   \n",
      "   *   \n"
     ]
    }
   ],
   "source": [
    "picture = [\n",
    "[0,0,0,1,0,0,0],\n",
    "[0,0,1,1,1,0,0],\n",
    "[0,1,1,1,1,1,0],\n",
    "[1,1,1,1,1,1,1],\n",
    "[0,0,0,1,0,0,0],\n",
    "[0,0,0,1,0,0,0]\n",
    "]\n",
    "\n",
    "\n",
    "for i in picture:\n",
    "    gui = ''\n",
    "    for x in range (len (i)):\n",
    "        if (i[x] != 1):\n",
    "           gui += \" \"\n",
    "        else:\n",
    "            gui += '*'\n",
    "    print (gui)"
   ]
  },
  {
   "cell_type": "code",
   "execution_count": 9,
   "id": "f80de126",
   "metadata": {},
   "outputs": [
    {
     "name": "stdout",
     "output_type": "stream",
     "text": [
      "   *   \n",
      "  ***  \n",
      " ***** \n",
      "*******\n",
      "   *   \n",
      "   *   \n"
     ]
    }
   ],
   "source": [
    "picture = [\n",
    "[0,0,0,1,0,0,0],\n",
    "[0,0,1,1,1,0,0],\n",
    "[0,1,1,1,1,1,0],\n",
    "[1,1,1,1,1,1,1],\n",
    "[0,0,0,1,0,0,0],\n",
    "[0,0,0,1,0,0,0]\n",
    "]\n",
    "\n",
    "\n",
    "for i in picture:\n",
    "    gui = ''\n",
    "    for x in range (len (i)):\n",
    "        if (i[x] != 1):\n",
    "            print (' ', end = '')\n",
    "        else:\n",
    "            print (\"*\", end = '' )\n",
    "    print ()"
   ]
  },
  {
   "cell_type": "code",
   "execution_count": 17,
   "id": "cd93a63d",
   "metadata": {},
   "outputs": [
    {
     "name": "stdout",
     "output_type": "stream",
     "text": [
      "b\n",
      "c\n",
      "['a', 'b', 'c', 'd', 'e', 'f']\n"
     ]
    }
   ],
   "source": [
    "#finding Dublicates in list without using list.\n",
    "alph_list = ['a', 'b', 'c','d','e','f', 'b','c']\n",
    "\n",
    "non_repeat_list = []\n",
    "for alph in alph_list:\n",
    "    if (alph in non_repeat_list):\n",
    "        print (alph)\n",
    "    else:\n",
    "        non_repeat_list.append(alph)\n",
    "print (non_repeat_list)"
   ]
  },
  {
   "cell_type": "code",
   "execution_count": 10,
   "id": "51ade4b0",
   "metadata": {},
   "outputs": [
    {
     "name": "stdout",
     "output_type": "stream",
     "text": [
      "18\n",
      "22\n",
      "22\n"
     ]
    }
   ],
   "source": [
    "def even_max (lst):\n",
    "    max = 0 \n",
    "    for i in lst:\n",
    "        if  not(i % 2) and (i > max) :\n",
    "            max = i\n",
    "            print (i)\n",
    "    return max\n",
    "    \n",
    "print (even_max([18,2,6,5,9,8,22,33]))"
   ]
  },
  {
   "cell_type": "code",
   "execution_count": 21,
   "id": "41cbc8d4",
   "metadata": {},
   "outputs": [
    {
     "name": "stdout",
     "output_type": "stream",
     "text": [
      "22\n"
     ]
    }
   ],
   "source": [
    "def even_max (lst):\n",
    "    temp_list = []\n",
    "    for i in lst:\n",
    "        temp_list.append(i) if not(i % 2) else None\n",
    "    return max(temp_list)\n",
    "\n",
    "    \n",
    "print (even_max([18,2,6,5,9,8,22,33]))"
   ]
  },
  {
   "cell_type": "code",
   "execution_count": 1,
   "id": "c39547e0",
   "metadata": {},
   "outputs": [
    {
     "name": "stdout",
     "output_type": "stream",
     "text": [
      "10\n"
     ]
    }
   ],
   "source": [
    "a = 10\n",
    "\n",
    "def cont():\n",
    "    a = 50\n",
    "    \n",
    "cont ()\n",
    "\n",
    "print(a)"
   ]
  }
 ],
 "metadata": {
  "kernelspec": {
   "display_name": "Python 3 (ipykernel)",
   "language": "python",
   "name": "python3"
  },
  "language_info": {
   "codemirror_mode": {
    "name": "ipython",
    "version": 3
   },
   "file_extension": ".py",
   "mimetype": "text/x-python",
   "name": "python",
   "nbconvert_exporter": "python",
   "pygments_lexer": "ipython3",
   "version": "3.9.12"
  }
 },
 "nbformat": 4,
 "nbformat_minor": 5
}
