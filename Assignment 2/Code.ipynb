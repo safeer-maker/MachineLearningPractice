{
 "cells": [
  {
   "cell_type": "code",
   "execution_count": 1,
   "id": "9516bc21-edac-499e-9c0e-e57cbb5dcc57",
   "metadata": {},
   "outputs": [
    {
     "name": "stdout",
     "output_type": "stream",
     "text": [
      "Requirement already satisfied: anytree in c:\\users\\safeer\\anaconda3\\lib\\site-packages (2.8.0)\n",
      "Requirement already satisfied: six>=1.9.0 in c:\\users\\safeer\\anaconda3\\lib\\site-packages (from anytree) (1.16.0)\n"
     ]
    }
   ],
   "source": [
    "!pip install anytree"
   ]
  },
  {
   "cell_type": "code",
   "execution_count": 1,
   "id": "e00cfedb-807f-4f9f-9ed6-8f50baa4ee28",
   "metadata": {},
   "outputs": [],
   "source": [
    "import numpy as np\n",
    "import pandas as pd\n",
    "\n",
    "from typing import List, Dict\n",
    "from anytree import NodeMixin, RenderTree\n",
    "from anytree.search import find_by_attr, findall_by_attr\n",
    "from math import log2\n",
    "\n",
    "pd.set_option('display.max_columns', 20)"
   ]
  },
  {
   "cell_type": "markdown",
   "id": "c653c075-7569-42be-b5fe-66e903f4c1cd",
   "metadata": {},
   "source": [
    "### Loading Data"
   ]
  },
  {
   "cell_type": "code",
   "execution_count": 4,
   "id": "88809e1c-6d0e-45cd-8786-d940d9dd916b",
   "metadata": {
    "scrolled": true
   },
   "outputs": [
    {
     "data": {
      "text/html": [
       "<div>\n",
       "<style scoped>\n",
       "    .dataframe tbody tr th:only-of-type {\n",
       "        vertical-align: middle;\n",
       "    }\n",
       "\n",
       "    .dataframe tbody tr th {\n",
       "        vertical-align: top;\n",
       "    }\n",
       "\n",
       "    .dataframe thead th {\n",
       "        text-align: right;\n",
       "    }\n",
       "</style>\n",
       "<table border=\"1\" class=\"dataframe\">\n",
       "  <thead>\n",
       "    <tr style=\"text-align: right;\">\n",
       "      <th></th>\n",
       "      <th>outlook</th>\n",
       "      <th>temp</th>\n",
       "      <th>humidity</th>\n",
       "      <th>windy</th>\n",
       "      <th>play</th>\n",
       "    </tr>\n",
       "  </thead>\n",
       "  <tbody>\n",
       "    <tr>\n",
       "      <th>0</th>\n",
       "      <td>sunny</td>\n",
       "      <td>hot</td>\n",
       "      <td>high</td>\n",
       "      <td>False</td>\n",
       "      <td>no</td>\n",
       "    </tr>\n",
       "    <tr>\n",
       "      <th>1</th>\n",
       "      <td>sunny</td>\n",
       "      <td>hot</td>\n",
       "      <td>high</td>\n",
       "      <td>True</td>\n",
       "      <td>no</td>\n",
       "    </tr>\n",
       "    <tr>\n",
       "      <th>2</th>\n",
       "      <td>overcast</td>\n",
       "      <td>hot</td>\n",
       "      <td>high</td>\n",
       "      <td>False</td>\n",
       "      <td>yes</td>\n",
       "    </tr>\n",
       "    <tr>\n",
       "      <th>3</th>\n",
       "      <td>rainy</td>\n",
       "      <td>mild</td>\n",
       "      <td>high</td>\n",
       "      <td>False</td>\n",
       "      <td>yes</td>\n",
       "    </tr>\n",
       "    <tr>\n",
       "      <th>4</th>\n",
       "      <td>rainy</td>\n",
       "      <td>cool</td>\n",
       "      <td>normal</td>\n",
       "      <td>False</td>\n",
       "      <td>yes</td>\n",
       "    </tr>\n",
       "    <tr>\n",
       "      <th>5</th>\n",
       "      <td>rainy</td>\n",
       "      <td>cool</td>\n",
       "      <td>normal</td>\n",
       "      <td>True</td>\n",
       "      <td>no</td>\n",
       "    </tr>\n",
       "    <tr>\n",
       "      <th>6</th>\n",
       "      <td>overcast</td>\n",
       "      <td>cool</td>\n",
       "      <td>normal</td>\n",
       "      <td>True</td>\n",
       "      <td>yes</td>\n",
       "    </tr>\n",
       "    <tr>\n",
       "      <th>7</th>\n",
       "      <td>sunny</td>\n",
       "      <td>mild</td>\n",
       "      <td>high</td>\n",
       "      <td>False</td>\n",
       "      <td>no</td>\n",
       "    </tr>\n",
       "    <tr>\n",
       "      <th>8</th>\n",
       "      <td>sunny</td>\n",
       "      <td>cool</td>\n",
       "      <td>normal</td>\n",
       "      <td>False</td>\n",
       "      <td>yes</td>\n",
       "    </tr>\n",
       "    <tr>\n",
       "      <th>9</th>\n",
       "      <td>rainy</td>\n",
       "      <td>mild</td>\n",
       "      <td>normal</td>\n",
       "      <td>False</td>\n",
       "      <td>yes</td>\n",
       "    </tr>\n",
       "    <tr>\n",
       "      <th>10</th>\n",
       "      <td>sunny</td>\n",
       "      <td>mild</td>\n",
       "      <td>normal</td>\n",
       "      <td>True</td>\n",
       "      <td>yes</td>\n",
       "    </tr>\n",
       "    <tr>\n",
       "      <th>11</th>\n",
       "      <td>overcast</td>\n",
       "      <td>mild</td>\n",
       "      <td>high</td>\n",
       "      <td>True</td>\n",
       "      <td>yes</td>\n",
       "    </tr>\n",
       "    <tr>\n",
       "      <th>12</th>\n",
       "      <td>overcast</td>\n",
       "      <td>hot</td>\n",
       "      <td>normal</td>\n",
       "      <td>False</td>\n",
       "      <td>yes</td>\n",
       "    </tr>\n",
       "    <tr>\n",
       "      <th>13</th>\n",
       "      <td>rainy</td>\n",
       "      <td>mild</td>\n",
       "      <td>high</td>\n",
       "      <td>True</td>\n",
       "      <td>no</td>\n",
       "    </tr>\n",
       "  </tbody>\n",
       "</table>\n",
       "</div>"
      ],
      "text/plain": [
       "     outlook  temp humidity  windy play\n",
       "0      sunny   hot     high  False   no\n",
       "1      sunny   hot     high   True   no\n",
       "2   overcast   hot     high  False  yes\n",
       "3      rainy  mild     high  False  yes\n",
       "4      rainy  cool   normal  False  yes\n",
       "5      rainy  cool   normal   True   no\n",
       "6   overcast  cool   normal   True  yes\n",
       "7      sunny  mild     high  False   no\n",
       "8      sunny  cool   normal  False  yes\n",
       "9      rainy  mild   normal  False  yes\n",
       "10     sunny  mild   normal   True  yes\n",
       "11  overcast  mild     high   True  yes\n",
       "12  overcast   hot   normal  False  yes\n",
       "13     rainy  mild     high   True   no"
      ]
     },
     "execution_count": 4,
     "metadata": {},
     "output_type": "execute_result"
    }
   ],
   "source": [
    "data  = pd.read_csv(\"data.csv\")\n",
    "data"
   ]
  },
  {
   "cell_type": "markdown",
   "id": "4563ee27-c468-43f9-9d8d-e80bfad7637b",
   "metadata": {},
   "source": [
    "### Implementing Decision Tree "
   ]
  },
  {
   "cell_type": "code",
   "execution_count": 2,
   "id": "5aa1e4ff-3f2c-4cad-8790-e142f68ed0ff",
   "metadata": {},
   "outputs": [
    {
     "ename": "NameError",
     "evalue": "name 'DecTreeNode' is not defined",
     "output_type": "error",
     "traceback": [
      "\u001b[1;31m---------------------------------------------------------------------------\u001b[0m",
      "\u001b[1;31mNameError\u001b[0m                                 Traceback (most recent call last)",
      "Input \u001b[1;32mIn [2]\u001b[0m, in \u001b[0;36m<cell line: 1>\u001b[1;34m()\u001b[0m\n\u001b[1;32m----> 1\u001b[0m \u001b[38;5;28;01mclass\u001b[39;00m \u001b[38;5;21;01mDecTree\u001b[39;00m():\n\u001b[0;32m      3\u001b[0m     \u001b[38;5;28;01mdef\u001b[39;00m \u001b[38;5;21m__init__\u001b[39m(\u001b[38;5;28mself\u001b[39m, data: pd\u001b[38;5;241m.\u001b[39mDataFrame, target_attribute: \u001b[38;5;28mstr\u001b[39m):\n\u001b[0;32m      4\u001b[0m         \u001b[38;5;28mself\u001b[39m\u001b[38;5;241m.\u001b[39mdata \u001b[38;5;241m=\u001b[39m data\n",
      "Input \u001b[1;32mIn [2]\u001b[0m, in \u001b[0;36mDecTree\u001b[1;34m()\u001b[0m\n\u001b[0;32m     26\u001b[0m \u001b[38;5;28;01mdef\u001b[39;00m \u001b[38;5;21mmax_info_gain_attribute\u001b[39m(\u001b[38;5;28mself\u001b[39m, df: pd\u001b[38;5;241m.\u001b[39mDataFrame, attributes: List[\u001b[38;5;28mint\u001b[39m]) \u001b[38;5;241m-\u001b[39m\u001b[38;5;241m>\u001b[39m \u001b[38;5;28mstr\u001b[39m:        \n\u001b[0;32m     27\u001b[0m     \u001b[38;5;66;03m# Add your code\u001b[39;00m\n\u001b[0;32m     29\u001b[0m     \u001b[38;5;28;01mreturn\u001b[39;00m max_attr\n\u001b[1;32m---> 31\u001b[0m \u001b[38;5;28;01mdef\u001b[39;00m \u001b[38;5;21mbuild_tree_infgain\u001b[39m(\u001b[38;5;28mself\u001b[39m, df: pd\u001b[38;5;241m.\u001b[39mDataFrame, attr_list: List[\u001b[38;5;28mstr\u001b[39m], start_node: \u001b[43mDecTreeNode\u001b[49m):\n\u001b[0;32m     32\u001b[0m     \u001b[38;5;66;03m# Add your code\u001b[39;00m\n\u001b[0;32m     33\u001b[0m     \u001b[38;5;66;03m# Use return to end current recursive call when any stopping condition is reached\u001b[39;00m\n\u001b[0;32m     34\u001b[0m     \u001b[38;5;28;01mreturn\u001b[39;00m\n\u001b[0;32m     36\u001b[0m \u001b[38;5;28;01mdef\u001b[39;00m \u001b[38;5;21mgenerate_tree\u001b[39m(\u001b[38;5;28mself\u001b[39m):\n",
      "\u001b[1;31mNameError\u001b[0m: name 'DecTreeNode' is not defined"
     ]
    }
   ],
   "source": [
    "class DecTree():\n",
    "    \n",
    "    def __init__(self, data: pd.DataFrame, target_attribute: str):\n",
    "        self.data = data\n",
    "        self.target_attr = target_attribute\n",
    "        self.target_attr_vals = data[target_attribute].unique()\n",
    "        self.root_node = None\n",
    "        \n",
    "    def pmf_target(self, df: pd.DataFrame) -> Dict[str, float]:\n",
    "        # Add your code\n",
    "        \n",
    "        return pmf\n",
    "    \n",
    "    def entropy(self, pmf: Dict[str, float]) -> float:\n",
    "        # Add your code\n",
    "        return entr\n",
    "    \n",
    "    def cal_entropy_df(self, df: pd.DataFrame) -> float:\n",
    "        # Add your code\n",
    "        return entr\n",
    "    \n",
    "    def info_gain_attribute(self, df: pd.DataFrame, attribute: str) -> float:\n",
    "        # Add your code\n",
    "        return information_gain\n",
    "    \n",
    "    def max_info_gain_attribute(self, df: pd.DataFrame, attributes: List[int]) -> str:        \n",
    "        # Add your code\n",
    "        \n",
    "        return max_attr\n",
    "    \n",
    "    def build_tree_infgain(self, df: pd.DataFrame, attr_list: List[str], start_node: DecTreeNode):\n",
    "        # Add your code\n",
    "        # Use return to end current recursive call when any stopping condition is reached\n",
    "        return\n",
    "    \n",
    "    def generate_tree(self):\n",
    "        attributes = self.data.columns.to_list()\n",
    "        attributes.remove(self.target_attr)\n",
    "        \n",
    "        start_node = DecTreeNode(\"start\", \"start\")\n",
    "        self.build_tree_infgain(self.data, attributes, start_node)\n",
    "        \n",
    "        self.root_node = start_node\n",
    "    \n",
    "    def print_tree(self):\n",
    "        for pre, _, node in RenderTree(self.root_node):\n",
    "            print(f\"{pre} {node.attribute}={node.name}\")\n",
    "            \n",
    "    def predict(self, X: pd.DataFrame) -> List[str]:\n",
    "        # Add your code\n",
    "        return predictions\n",
    "            \n",
    "    \n",
    "class DecTreeNode(NodeMixin):\n",
    "    def __init__(self, name: str, attribute: str, parent: DecTreeNode = None):\n",
    "        super(DecTreeNode, self).__init__()\n",
    "        self.name = name\n",
    "        self.attribute = attribute\n",
    "        self.parent = parent\n",
    "        self.attr_value = \"{0}={1}\".format(attribute, name)\n",
    "        "
   ]
  },
  {
   "cell_type": "markdown",
   "id": "2ba4b25a-ab1c-45f2-9dd0-da23eddf48a9",
   "metadata": {},
   "source": [
    "### Train Decision Tree "
   ]
  },
  {
   "cell_type": "code",
   "execution_count": 41,
   "id": "b42fe981-fdd4-4952-8aaa-31aa1d8cd0f9",
   "metadata": {},
   "outputs": [
    {
     "name": "stdout",
     "output_type": "stream",
     "text": [
      " start=start\n",
      "├──  outlook=sunny\n",
      "│   ├──  humidity=high\n",
      "│   │   └──  class=no\n",
      "│   └──  humidity=normal\n",
      "│       └──  class=yes\n",
      "├──  outlook=overcast\n",
      "│   └──  class=yes\n",
      "└──  outlook=rainy\n",
      "    ├──  windy=False\n",
      "    │   └──  class=yes\n",
      "    └──  windy=True\n",
      "        └──  class=no\n"
     ]
    }
   ],
   "source": [
    "dec_tree = DecTree(data, \"play\")\n",
    "\n",
    "dec_tree.generate_tree()\n",
    "dec_tree.print_tree()"
   ]
  },
  {
   "cell_type": "markdown",
   "id": "b4423fb7-a871-4e4b-9974-e0b9353358f3",
   "metadata": {},
   "source": [
    "### Perform Inference "
   ]
  },
  {
   "cell_type": "code",
   "execution_count": null,
   "id": "6b9aa03c-bf36-475a-a3fb-7fb6d5d6cf5f",
   "metadata": {},
   "outputs": [],
   "source": [
    "predictions = dec_tree.predict(data)\n",
    "print(predictions)"
   ]
  },
  {
   "cell_type": "markdown",
   "id": "e18069e4-edd6-483b-ae87-eb90bc37993d",
   "metadata": {},
   "source": [
    "### Evaluate on the Cars Dataset "
   ]
  },
  {
   "cell_type": "code",
   "execution_count": 3,
   "id": "7b1e805f-c14c-4ae2-93dc-fb6098eca2fd",
   "metadata": {},
   "outputs": [
    {
     "data": {
      "text/html": [
       "<div>\n",
       "<style scoped>\n",
       "    .dataframe tbody tr th:only-of-type {\n",
       "        vertical-align: middle;\n",
       "    }\n",
       "\n",
       "    .dataframe tbody tr th {\n",
       "        vertical-align: top;\n",
       "    }\n",
       "\n",
       "    .dataframe thead th {\n",
       "        text-align: right;\n",
       "    }\n",
       "</style>\n",
       "<table border=\"1\" class=\"dataframe\">\n",
       "  <thead>\n",
       "    <tr style=\"text-align: right;\">\n",
       "      <th></th>\n",
       "      <th>buying_price</th>\n",
       "      <th>maintenance_cost</th>\n",
       "      <th>num_doors</th>\n",
       "      <th>num_persons</th>\n",
       "      <th>size_luggage</th>\n",
       "      <th>safety</th>\n",
       "      <th>decision</th>\n",
       "    </tr>\n",
       "  </thead>\n",
       "  <tbody>\n",
       "    <tr>\n",
       "      <th>0</th>\n",
       "      <td>vhigh</td>\n",
       "      <td>med</td>\n",
       "      <td>2</td>\n",
       "      <td>2</td>\n",
       "      <td>small</td>\n",
       "      <td>low</td>\n",
       "      <td>unacc</td>\n",
       "    </tr>\n",
       "    <tr>\n",
       "      <th>1</th>\n",
       "      <td>high</td>\n",
       "      <td>high</td>\n",
       "      <td>3</td>\n",
       "      <td>4</td>\n",
       "      <td>big</td>\n",
       "      <td>med</td>\n",
       "      <td>acc</td>\n",
       "    </tr>\n",
       "    <tr>\n",
       "      <th>2</th>\n",
       "      <td>low</td>\n",
       "      <td>med</td>\n",
       "      <td>4</td>\n",
       "      <td>2</td>\n",
       "      <td>big</td>\n",
       "      <td>low</td>\n",
       "      <td>unacc</td>\n",
       "    </tr>\n",
       "    <tr>\n",
       "      <th>3</th>\n",
       "      <td>vhigh</td>\n",
       "      <td>high</td>\n",
       "      <td>5more</td>\n",
       "      <td>4</td>\n",
       "      <td>small</td>\n",
       "      <td>low</td>\n",
       "      <td>unacc</td>\n",
       "    </tr>\n",
       "    <tr>\n",
       "      <th>4</th>\n",
       "      <td>med</td>\n",
       "      <td>med</td>\n",
       "      <td>4</td>\n",
       "      <td>2</td>\n",
       "      <td>med</td>\n",
       "      <td>high</td>\n",
       "      <td>unacc</td>\n",
       "    </tr>\n",
       "  </tbody>\n",
       "</table>\n",
       "</div>"
      ],
      "text/plain": [
       "  buying_price maintenance_cost num_doors num_persons size_luggage safety  \\\n",
       "0        vhigh              med         2           2        small    low   \n",
       "1         high             high         3           4          big    med   \n",
       "2          low              med         4           2          big    low   \n",
       "3        vhigh             high     5more           4        small    low   \n",
       "4          med              med         4           2          med   high   \n",
       "\n",
       "  decision  \n",
       "0    unacc  \n",
       "1      acc  \n",
       "2    unacc  \n",
       "3    unacc  \n",
       "4    unacc  "
      ]
     },
     "execution_count": 3,
     "metadata": {},
     "output_type": "execute_result"
    }
   ],
   "source": [
    "dt_train = pd.read_csv(\"cars_train.csv\")\n",
    "dt_test = pd.read_csv(\"cars_test.csv\")\n",
    "\n",
    "dt_test.head()"
   ]
  },
  {
   "cell_type": "code",
   "execution_count": null,
   "id": "e5dfb19f-918a-401a-94fd-e1e1b436d4a2",
   "metadata": {},
   "outputs": [],
   "source": [
    "# Train\n",
    "dec_tree = DecTree(dt_train, \"decision\")\n",
    "dec_tree.generate_tree()"
   ]
  },
  {
   "cell_type": "code",
   "execution_count": null,
   "id": "d7db678e-03b9-46b0-a373-dd97727abffb",
   "metadata": {},
   "outputs": [],
   "source": [
    "# Test\n",
    "dt_test_x = dt_test.drop(columns=\"decision\")\n",
    "dt_test_y = dt_test[\"decision\"].to_list()\n",
    "\n",
    "preds = dt.predict(dt_test_x)"
   ]
  },
  {
   "cell_type": "code",
   "execution_count": null,
   "id": "3cf3e0cf-cc8f-48cc-87d3-b19eec7c8704",
   "metadata": {},
   "outputs": [],
   "source": [
    "# Evaluate results\n",
    "from sklearn.metrics import accuracy_score, confusion_matrix\n",
    "\n",
    "acc = accuracy_score(dt_test_y, preds)\n",
    "cm = confusion_matrix(dt_test_y, preds)\n",
    "print(f\"Accuracy: {acc}\")\n",
    "print(cm)"
   ]
  },
  {
   "cell_type": "code",
   "execution_count": null,
   "id": "69101af4-feff-4888-9479-a6ee62bb4343",
   "metadata": {},
   "outputs": [],
   "source": []
  }
 ],
 "metadata": {
  "kernelspec": {
   "display_name": "Python 3 (ipykernel)",
   "language": "python",
   "name": "python3"
  },
  "language_info": {
   "codemirror_mode": {
    "name": "ipython",
    "version": 3
   },
   "file_extension": ".py",
   "mimetype": "text/x-python",
   "name": "python",
   "nbconvert_exporter": "python",
   "pygments_lexer": "ipython3",
   "version": "3.9.12"
  }
 },
 "nbformat": 4,
 "nbformat_minor": 5
}
